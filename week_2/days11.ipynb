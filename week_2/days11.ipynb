{
 "cells": [
  {
   "attachments": {},
   "cell_type": "markdown",
   "metadata": {},
   "source": [
    "#Pandas"
   ]
  },
  {
   "attachments": {},
   "cell_type": "markdown",
   "metadata": {},
   "source": [
    "***Data Aggregations***"
   ]
  },
  {
   "attachments": {},
   "cell_type": "markdown",
   "metadata": {},
   "source": [
    "It refers to transform the dataset and produce single numeric value.Functions are : max(), min(), sum(), count(), std(), var(), sum(), mean(), median."
   ]
  },
  {
   "attachments": {},
   "cell_type": "markdown",
   "metadata": {},
   "source": [
    "pandas library provides a groupby() method to group a DataFrame by one or more columns."
   ]
  },
  {
   "cell_type": "code",
   "execution_count": 1,
   "metadata": {},
   "outputs": [
    {
     "name": "stdout",
     "output_type": "stream",
     "text": [
      "Group a: ['apple']\n",
      "Group b: ['banana']\n",
      "Group c: ['cat']\n",
      "Group d: ['dog']\n",
      "Group e: ['elephant']\n"
     ]
    }
   ],
   "source": [
    "from itertools import groupby\n",
    "\n",
    "words = ['apple', 'banana', 'cat', 'dog', 'elephant']\n",
    "\n",
    "groups = groupby(words, key=lambda x: x[0])\n",
    "\n",
    "for key, group in groups:\n",
    "    print(f\"Group {key}: {list(group)}\")\n"
   ]
  }
 ],
 "metadata": {
  "kernelspec": {
   "display_name": "Python 3",
   "language": "python",
   "name": "python3"
  },
  "language_info": {
   "codemirror_mode": {
    "name": "ipython",
    "version": 3
   },
   "file_extension": ".py",
   "mimetype": "text/x-python",
   "name": "python",
   "nbconvert_exporter": "python",
   "pygments_lexer": "ipython3",
   "version": "3.11.1"
  },
  "orig_nbformat": 4
 },
 "nbformat": 4,
 "nbformat_minor": 2
}
