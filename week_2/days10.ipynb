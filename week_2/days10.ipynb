{
 "cells": [
  {
   "attachments": {},
   "cell_type": "markdown",
   "metadata": {},
   "source": [
    "#File Reading And Writing"
   ]
  },
  {
   "cell_type": "markdown",
   "metadata": {},
   "source": [
    "***OS module***"
   ]
  },
  {
   "cell_type": "markdown",
   "metadata": {},
   "source": [
    "This module provides many functions for interacting with OS and the filesystem"
   ]
  },
  {
   "cell_type": "code",
   "execution_count": 1,
   "metadata": {},
   "outputs": [],
   "source": [
    "import os"
   ]
  },
  {
   "cell_type": "code",
   "execution_count": 2,
   "metadata": {},
   "outputs": [
    {
     "data": {
      "text/plain": [
       "'c:\\\\Users\\\\SHRISTI\\\\Desktop\\\\100days series\\\\week_2'"
      ]
     },
     "execution_count": 2,
     "metadata": {},
     "output_type": "execute_result"
    }
   ],
   "source": [
    "os.getcwd() #present working directory"
   ]
  },
  {
   "cell_type": "code",
   "execution_count": 3,
   "metadata": {},
   "outputs": [
    {
     "name": "stdout",
     "output_type": "stream",
     "text": [
      "Help on built-in function listdir in module nt:\n",
      "\n",
      "listdir(path=None)\n",
      "    Return a list containing the names of the files in the directory.\n",
      "    \n",
      "    path can be specified as either str, bytes, or a path-like object.  If path is bytes,\n",
      "      the filenames returned will also be bytes; in all other circumstances\n",
      "      the filenames returned will be str.\n",
      "    If path is None, uses the path='.'.\n",
      "    On some platforms, path may also be specified as an open file descriptor;\\\n",
      "      the file descriptor must refer to a directory.\n",
      "      If this functionality is unavailable, using it raises NotImplementedError.\n",
      "    \n",
      "    The list is in arbitrary order.  It does not include the special\n",
      "    entries '.' and '..' even if they are present in the directory.\n",
      "\n"
     ]
    }
   ],
   "source": [
    "#list of files \n",
    "help(os.listdir)"
   ]
  },
  {
   "cell_type": "code",
   "execution_count": 4,
   "metadata": {},
   "outputs": [
    {
     "data": {
      "text/plain": [
       "['data',\n",
       " 'day11.ipynb',\n",
       " 'day8.data.csv',\n",
       " 'day8.ipynb',\n",
       " 'day9.ipynb',\n",
       " 'days10.ipynb',\n",
       " 'nextdata.txt',\n",
       " 'Student_Mental_health.csv']"
      ]
     },
     "execution_count": 4,
     "metadata": {},
     "output_type": "execute_result"
    }
   ],
   "source": [
    "os.listdir('.')  #relative path"
   ]
  },
  {
   "cell_type": "code",
   "execution_count": 5,
   "metadata": {},
   "outputs": [
    {
     "data": {
      "text/plain": [
       "['All Users',\n",
       " 'Default',\n",
       " 'Default User',\n",
       " 'desktop.ini',\n",
       " 'LENOVO',\n",
       " 'Public',\n",
       " 'SHRISTI']"
      ]
     },
     "execution_count": 5,
     "metadata": {},
     "output_type": "execute_result"
    }
   ],
   "source": [
    "os.listdir('/users')"
   ]
  },
  {
   "attachments": {},
   "cell_type": "markdown",
   "metadata": {},
   "source": [
    "***Creating New Directory***"
   ]
  },
  {
   "cell_type": "code",
   "execution_count": 6,
   "metadata": {},
   "outputs": [],
   "source": [
    "#os.makedirs make a new directory\n",
    "os.makedirs('./data',exist_ok=True)  #new directory  created named data"
   ]
  },
  {
   "cell_type": "code",
   "execution_count": 7,
   "metadata": {},
   "outputs": [
    {
     "data": {
      "text/plain": [
       "['databoat.txt', 'datasets.txt', 'datavehicle.txt']"
      ]
     },
     "execution_count": 7,
     "metadata": {},
     "output_type": "execute_result"
    }
   ],
   "source": [
    "os.listdir('./data') #as data is empty"
   ]
  },
  {
   "attachments": {},
   "cell_type": "markdown",
   "metadata": {},
   "source": [
    "***Downloading data into directory***"
   ]
  },
  {
   "cell_type": "code",
   "execution_count": 8,
   "metadata": {},
   "outputs": [],
   "source": [
    "import urllib.request"
   ]
  },
  {
   "cell_type": "code",
   "execution_count": 9,
   "metadata": {},
   "outputs": [],
   "source": [
    "url='https://www.kaggle.com/datasets/nehalbirla/vehicle-dataset-from-cardekho'\n",
    "url1='https://www.kaggle.com/c/titanic/data?select=gender_submission.csv'\n",
    "url2='https://people.sc.fsu.edu/~jburkardt/data/csv/hw_200.csv'"
   ]
  },
  {
   "cell_type": "code",
   "execution_count": 10,
   "metadata": {},
   "outputs": [
    {
     "data": {
      "text/plain": [
       "('./data/datavehicle.txt', <http.client.HTTPMessage at 0x1ae0bf5db50>)"
      ]
     },
     "execution_count": 10,
     "metadata": {},
     "output_type": "execute_result"
    }
   ],
   "source": [
    "#file inside directory\n",
    "urllib.request.urlretrieve(url,'./data/datavehicle.txt')"
   ]
  },
  {
   "cell_type": "code",
   "execution_count": 11,
   "metadata": {},
   "outputs": [
    {
     "data": {
      "text/plain": [
       "('./data/databoat.txt', <http.client.HTTPMessage at 0x1ae0bf8d410>)"
      ]
     },
     "execution_count": 11,
     "metadata": {},
     "output_type": "execute_result"
    }
   ],
   "source": [
    "urllib.request.urlretrieve(url1, './data/databoat.txt')"
   ]
  },
  {
   "cell_type": "code",
   "execution_count": 12,
   "metadata": {},
   "outputs": [
    {
     "data": {
      "text/plain": [
       "('./data/datasets.txt', <http.client.HTTPMessage at 0x1ae0bff0590>)"
      ]
     },
     "execution_count": 12,
     "metadata": {},
     "output_type": "execute_result"
    }
   ],
   "source": [
    "urllib.request.urlretrieve(url2,'./data/datasets.txt')"
   ]
  },
  {
   "cell_type": "code",
   "execution_count": 13,
   "metadata": {},
   "outputs": [
    {
     "data": {
      "text/plain": [
       "['databoat.txt', 'datasets.txt', 'datavehicle.txt']"
      ]
     },
     "execution_count": 13,
     "metadata": {},
     "output_type": "execute_result"
    }
   ],
   "source": [
    "os.listdir('./data')  #not empy now as we have downloaded two dataset"
   ]
  },
  {
   "attachments": {},
   "cell_type": "markdown",
   "metadata": {},
   "source": [
    "***Reading From A File***"
   ]
  },
  {
   "cell_type": "code",
   "execution_count": 14,
   "metadata": {},
   "outputs": [],
   "source": [
    "#building function open\n",
    "file1=open('./data/datasets.txt', mode='r') "
   ]
  },
  {
   "attachments": {},
   "cell_type": "markdown",
   "metadata": {},
   "source": [
    "| Mode | Description |\n",
    "|------|-------------|\n",
    "| \"r\" | Read-only mode. Used to open an existing file for reading its contents. If the file does not exist, a `FileNotFoundError` will be raised. |\n",
    "| \"w\" | Write mode. Used to open a file for writing or modifying its contents. If the file does not exist, it will be created. If the file already exists, its previous content will be deleted. |\n",
    "| \"a\" | Append mode. Used to open a file for writing or modifying its contents, but new data will be appended to the end of the file instead of overwriting its previous contents. If the file does not exist, it will be created. |\n",
    "| \"x\" | Exclusive mode. Used to open a file for writing or modifying its contents, but the file must not already exist. If the file already exists, a `FileExistsError` will be raised. |\n",
    "| \"b\" | Binary mode. Used to treat the file as a binary file instead of a text file. This mode is typically used when working with non-textual data, such as images or audio files. |\n"
   ]
  },
  {
   "cell_type": "code",
   "execution_count": 15,
   "metadata": {},
   "outputs": [
    {
     "name": "stdout",
     "output_type": "stream",
     "text": [
      "\"Index\", Height(Inches)\", \"Weight(Pounds)\"\n",
      "1, 65.78, 112.99\n",
      "2, 71.52, 136.49\n",
      "3, 69.40, 153.03\n",
      "4, 68.22, 142.34\n",
      "5, 67.79, 144.30\n",
      "6, 68.70, 123.30\n",
      "7, 69.80, 141.49\n",
      "8, 70.01, 136.46\n",
      "9, 67.90, 112.37\n",
      "10, 66.78, 120.67\n",
      "11, 66.49, 127.45\n",
      "12, 67.62, 114.14\n",
      "\n"
     ]
    }
   ],
   "source": [
    "file1_contents=file1.read(250)\n",
    "print(file1_contents)"
   ]
  },
  {
   "cell_type": "code",
   "execution_count": 16,
   "metadata": {},
   "outputs": [],
   "source": [
    "file1.close()"
   ]
  },
  {
   "cell_type": "code",
   "execution_count": 17,
   "metadata": {},
   "outputs": [
    {
     "name": "stdout",
     "output_type": "stream",
     "text": [
      "\"Index\", Height(Inches)\", \"Weight(Pounds)\"\n",
      "1, 65.78, 112.99\n",
      "2, 71.52, 136.49\n",
      "3, 69.40, 153.03\n",
      "4, 68.22, 142.34\n",
      "5, 67.79, 144.30\n",
      "6, 68.70, 123.30\n",
      "7, 69.80, 141.49\n",
      "8, 70.01, 136.46\n",
      "9, 67.90, 112.37\n",
      "10, 66.78, 120.67\n",
      "11, 66.49, 127.45\n",
      "12, 67.62, 114.14\n",
      "\n"
     ]
    }
   ],
   "source": [
    "#with statement\n",
    "#by default\n",
    "with open('./data/datasets.txt','r') as file:\n",
    "    file_contents=file.read()[:250]\n",
    "    print(file_contents)   #this is closed  atomatically, Again if we want to read we cannot"
   ]
  },
  {
   "cell_type": "code",
   "execution_count": 21,
   "metadata": {},
   "outputs": [
    {
     "name": "stdout",
     "output_type": "stream",
     "text": [
      "['\"Index\", Height(Inches)\", \"Weight(Pounds)\"\\n', '1, 65.78, 112.99\\n', '2, 71.52, 136.49\\n', '3, 69.40, 153.03\\n', '4, 68.22, 142.34\\n', '5, 67.79, 144.30\\n', '6, 68.70, 123.30\\n', '7, 69.80, 141.49\\n', '8, 70.01, 136.46\\n', '9, 67.90, 112.37\\n']\n"
     ]
    }
   ],
   "source": [
    "#readline\n",
    "with open('./data/datasets.txt','r') as file2:\n",
    "    f=file2.readlines()[:10] #new line character '\\n' in every line\n",
    "    print(f)"
   ]
  },
  {
   "cell_type": "code",
   "execution_count": 19,
   "metadata": {},
   "outputs": [
    {
     "data": {
      "text/plain": [
       "'\"Index\", Height(Inches)\", \"Weight(Pounds)\"\\n'"
      ]
     },
     "execution_count": 19,
     "metadata": {},
     "output_type": "execute_result"
    }
   ],
   "source": [
    "#printing only one line\n",
    "f[0]"
   ]
  },
  {
   "cell_type": "code",
   "execution_count": 20,
   "metadata": {},
   "outputs": [
    {
     "data": {
      "text/plain": [
       "'4, 68.22, 142.34'"
      ]
     },
     "execution_count": 20,
     "metadata": {},
     "output_type": "execute_result"
    }
   ],
   "source": [
    "#strip() removes the new line'\\n' character\n",
    "f[4].strip()"
   ]
  }
 ],
 "metadata": {
  "kernelspec": {
   "display_name": "Python 3",
   "language": "python",
   "name": "python3"
  },
  "language_info": {
   "codemirror_mode": {
    "name": "ipython",
    "version": 3
   },
   "file_extension": ".py",
   "mimetype": "text/x-python",
   "name": "python",
   "nbconvert_exporter": "python",
   "pygments_lexer": "ipython3",
   "version": "3.11.1"
  },
  "orig_nbformat": 4
 },
 "nbformat": 4,
 "nbformat_minor": 2
}
