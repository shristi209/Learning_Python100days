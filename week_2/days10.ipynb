{
 "cells": [
  {
   "attachments": {},
   "cell_type": "markdown",
   "metadata": {},
   "source": [
    "#File Reading And Writing"
   ]
  },
  {
   "cell_type": "markdown",
   "metadata": {},
   "source": [
    "***OS module***"
   ]
  },
  {
   "cell_type": "markdown",
   "metadata": {},
   "source": [
    "This module provides many functions for interacting with OS and the filesystem"
   ]
  },
  {
   "cell_type": "code",
   "execution_count": 4,
   "metadata": {},
   "outputs": [],
   "source": [
    "import os"
   ]
  },
  {
   "cell_type": "code",
   "execution_count": 5,
   "metadata": {},
   "outputs": [
    {
     "data": {
      "text/plain": [
       "'c:\\\\Users\\\\SHRISTI\\\\Desktop\\\\100days series\\\\week_2'"
      ]
     },
     "execution_count": 5,
     "metadata": {},
     "output_type": "execute_result"
    }
   ],
   "source": [
    "os.getcwd() #present working directory"
   ]
  },
  {
   "cell_type": "code",
   "execution_count": 6,
   "metadata": {},
   "outputs": [
    {
     "name": "stdout",
     "output_type": "stream",
     "text": [
      "Help on built-in function listdir in module nt:\n",
      "\n",
      "listdir(path=None)\n",
      "    Return a list containing the names of the files in the directory.\n",
      "    \n",
      "    path can be specified as either str, bytes, or a path-like object.  If path is bytes,\n",
      "      the filenames returned will also be bytes; in all other circumstances\n",
      "      the filenames returned will be str.\n",
      "    If path is None, uses the path='.'.\n",
      "    On some platforms, path may also be specified as an open file descriptor;\\\n",
      "      the file descriptor must refer to a directory.\n",
      "      If this functionality is unavailable, using it raises NotImplementedError.\n",
      "    \n",
      "    The list is in arbitrary order.  It does not include the special\n",
      "    entries '.' and '..' even if they are present in the directory.\n",
      "\n"
     ]
    }
   ],
   "source": [
    "#list of files \n",
    "help(os.listdir)"
   ]
  },
  {
   "cell_type": "code",
   "execution_count": 7,
   "metadata": {},
   "outputs": [
    {
     "data": {
      "text/plain": [
       "['data',\n",
       " 'day10.ipynb',\n",
       " 'day11.ipynb',\n",
       " 'day8.data.csv',\n",
       " 'day8.ipynb',\n",
       " 'day9.ipynb',\n",
       " 'nextdata.txt',\n",
       " 'Student_Mental_health.csv']"
      ]
     },
     "execution_count": 7,
     "metadata": {},
     "output_type": "execute_result"
    }
   ],
   "source": [
    "os.listdir('.')  #relative path"
   ]
  },
  {
   "cell_type": "code",
   "execution_count": 8,
   "metadata": {},
   "outputs": [
    {
     "data": {
      "text/plain": [
       "['All Users',\n",
       " 'Default',\n",
       " 'Default User',\n",
       " 'desktop.ini',\n",
       " 'LENOVO',\n",
       " 'Public',\n",
       " 'SHRISTI']"
      ]
     },
     "execution_count": 8,
     "metadata": {},
     "output_type": "execute_result"
    }
   ],
   "source": [
    "os.listdir('/users')"
   ]
  },
  {
   "attachments": {},
   "cell_type": "markdown",
   "metadata": {},
   "source": [
    "***Creating New Directory***"
   ]
  },
  {
   "cell_type": "code",
   "execution_count": 9,
   "metadata": {},
   "outputs": [],
   "source": [
    "#os.makedirs make a new directory\n",
    "os.makedirs('./data',exist_ok=True)  #new directory  created named data"
   ]
  },
  {
   "cell_type": "code",
   "execution_count": 10,
   "metadata": {},
   "outputs": [
    {
     "data": {
      "text/plain": [
       "['databoat.txt', 'datasets.txt', 'datavehicle.txt']"
      ]
     },
     "execution_count": 10,
     "metadata": {},
     "output_type": "execute_result"
    }
   ],
   "source": [
    "os.listdir('./data') #as data is empty"
   ]
  },
  {
   "attachments": {},
   "cell_type": "markdown",
   "metadata": {},
   "source": [
    "***Downloading data into directory***"
   ]
  },
  {
   "cell_type": "code",
   "execution_count": 11,
   "metadata": {},
   "outputs": [],
   "source": [
    "import urllib.request"
   ]
  },
  {
   "cell_type": "code",
   "execution_count": 12,
   "metadata": {},
   "outputs": [],
   "source": [
    "url='https://www.kaggle.com/datasets/nehalbirla/vehicle-dataset-from-cardekho'\n",
    "url1='https://www.kaggle.com/c/titanic/data?select=gender_submission.csv'\n",
    "url2='https://people.sc.fsu.edu/~jburkardt/data/csv/hw_200.csv'"
   ]
  },
  {
   "cell_type": "code",
   "execution_count": 13,
   "metadata": {},
   "outputs": [
    {
     "data": {
      "text/plain": [
       "('./data/datavehicle.txt', <http.client.HTTPMessage at 0x13c9edce750>)"
      ]
     },
     "execution_count": 13,
     "metadata": {},
     "output_type": "execute_result"
    }
   ],
   "source": [
    "#file inside directory\n",
    "urllib.request.urlretrieve(url,'./data/datavehicle.txt')"
   ]
  },
  {
   "cell_type": "code",
   "execution_count": 14,
   "metadata": {},
   "outputs": [
    {
     "data": {
      "text/plain": [
       "('./data/databoat.txt', <http.client.HTTPMessage at 0x13c9edb0b10>)"
      ]
     },
     "execution_count": 14,
     "metadata": {},
     "output_type": "execute_result"
    }
   ],
   "source": [
    "urllib.request.urlretrieve(url1, './data/databoat.txt')"
   ]
  },
  {
   "cell_type": "code",
   "execution_count": 15,
   "metadata": {},
   "outputs": [
    {
     "data": {
      "text/plain": [
       "('./data/datasets.txt', <http.client.HTTPMessage at 0x13c9edb1550>)"
      ]
     },
     "execution_count": 15,
     "metadata": {},
     "output_type": "execute_result"
    }
   ],
   "source": [
    "urllib.request.urlretrieve(url2,'./data/datasets.txt')"
   ]
  },
  {
   "cell_type": "code",
   "execution_count": 16,
   "metadata": {},
   "outputs": [
    {
     "data": {
      "text/plain": [
       "['databoat.txt', 'datasets.txt', 'datavehicle.txt']"
      ]
     },
     "execution_count": 16,
     "metadata": {},
     "output_type": "execute_result"
    }
   ],
   "source": [
    "os.listdir('./data')  #not empy now as we have downloaded two dataset"
   ]
  },
  {
   "attachments": {},
   "cell_type": "markdown",
   "metadata": {},
   "source": [
    "***Reading From A File***"
   ]
  },
  {
   "cell_type": "code",
   "execution_count": 17,
   "metadata": {},
   "outputs": [],
   "source": [
    "#building function open\n",
    "file1=open('./data/datasets.txt', mode='r') "
   ]
  },
  {
   "attachments": {},
   "cell_type": "markdown",
   "metadata": {},
   "source": [
    "| Mode | Description |\n",
    "|------|-------------|\n",
    "| \"r\" | Read-only mode. Used to open an existing file for reading its contents. If the file does not exist, a `FileNotFoundError` will be raised. |\n",
    "| \"w\" | Write mode. Used to open a file for writing or modifying its contents. If the file does not exist, it will be created. If the file already exists, its previous content will be deleted. |\n",
    "| \"a\" | Append mode. Used to open a file for writing or modifying its contents, but new data will be appended to the end of the file instead of overwriting its previous contents. If the file does not exist, it will be created. |\n",
    "| \"x\" | Exclusive mode. Used to open a file for writing or modifying its contents, but the file must not already exist. If the file already exists, a `FileExistsError` will be raised. |\n",
    "| \"b\" | Binary mode. Used to treat the file as a binary file instead of a text file. This mode is typically used when working with non-textual data, such as images or audio files. |\n"
   ]
  },
  {
   "cell_type": "code",
   "execution_count": 18,
   "metadata": {},
   "outputs": [
    {
     "name": "stdout",
     "output_type": "stream",
     "text": [
      "\"Index\", Height(Inches)\", \"Weight(Pounds)\"\n",
      "1, 65.78, 112.99\n",
      "2, 71.52, 136.49\n",
      "3, 69.40, 153.03\n",
      "4, 68.22, 142.34\n",
      "5, 67.79, 144.30\n",
      "6, 68.70, 123.30\n",
      "7, 69.80, 141.49\n",
      "8, 70.01, 136.46\n",
      "9, 67.90, 112.37\n",
      "10, 66.78, 120.67\n",
      "11, 66.49, 127.45\n",
      "12, 67.62, 114.14\n",
      "\n"
     ]
    }
   ],
   "source": [
    "file1_contents=file1.read(250)\n",
    "print(file1_contents)"
   ]
  },
  {
   "cell_type": "code",
   "execution_count": 19,
   "metadata": {},
   "outputs": [],
   "source": [
    "file1.close()"
   ]
  },
  {
   "cell_type": "code",
   "execution_count": 20,
   "metadata": {},
   "outputs": [
    {
     "name": "stdout",
     "output_type": "stream",
     "text": [
      "\"Index\", Height(Inches)\", \"Weight(Pounds)\"\n",
      "1, 65.78, 112.99\n",
      "2, 71.52, 136.49\n",
      "3, 69.40, 153.03\n",
      "4, 68.22, 142.34\n",
      "5, 67.79, 144.30\n",
      "6, 68.70, 123.30\n",
      "7, 69.80, 141.49\n",
      "8, 70.01, 136.46\n",
      "9, 67.90, 112.37\n",
      "10, 66.78, 120.67\n",
      "11, 66.49, 127.45\n",
      "12, 67.62, 114.14\n",
      "\n"
     ]
    }
   ],
   "source": [
    "#with statement\n",
    "#by default\n",
    "with open('./data/datasets.txt','r') as file:\n",
    "    file_contents=file.read()[:250]\n",
    "    print(file_contents)   #this is closed  atomatically, Again if we want to read we cannot"
   ]
  },
  {
   "cell_type": "code",
   "execution_count": 21,
   "metadata": {},
   "outputs": [
    {
     "name": "stdout",
     "output_type": "stream",
     "text": [
      "['\"Index\", Height(Inches)\", \"Weight(Pounds)\"\\n', '1, 65.78, 112.99\\n', '2, 71.52, 136.49\\n', '3, 69.40, 153.03\\n', '4, 68.22, 142.34\\n', '5, 67.79, 144.30\\n', '6, 68.70, 123.30\\n', '7, 69.80, 141.49\\n', '8, 70.01, 136.46\\n', '9, 67.90, 112.37\\n', '10, 66.78, 120.67\\n', '11, 66.49, 127.45\\n', '12, 67.62, 114.14\\n', '13, 68.30, 125.61\\n', '14, 67.12, 122.46\\n', '15, 68.28, 116.09\\n', '16, 71.09, 140.00\\n', '17, 66.46, 129.50\\n', '18, 68.65, 142.97\\n', '19, 71.23, 137.90\\n', '20, 67.13, 124.04\\n', '21, 67.83, 141.28\\n', '22, 68.88, 143.54\\n', '23, 63.48, 97.90\\n', '24, 68.42, 129.50\\n', '25, 67.63, 141.85\\n', '26, 67.21, 129.72\\n', '27, 70.84, 142.42\\n', '28, 67.49, 131.55\\n', '29, 66.53, 108.33\\n', '30, 65.44, 113.89\\n', '31, 69.52, 103.30\\n', '32, 65.81, 120.75\\n', '33, 67.82, 125.79\\n', '34, 70.60, 136.22\\n', '35, 71.80, 140.10\\n', '36, 69.21, 128.75\\n', '37, 66.80, 141.80\\n', '38, 67.66, 121.23\\n', '39, 67.81, 131.35\\n', '40, 64.05, 106.71\\n', '41, 68.57, 124.36\\n', '42, 65.18, 124.86\\n', '43, 69.66, 139.67\\n', '44, 67.97, 137.37\\n', '45, 65.98, 106.45\\n', '46, 68.67, 128.76\\n', '47, 66.88, 145.68\\n', '48, 67.70, 116.82\\n', '49, 69.82, 143.62\\n', '50, 69.09, 134.93\\n', '51, 69.91, 147.02\\n', '52, 67.33, 126.33\\n', '53, 70.27, 125.48\\n', '54, 69.10, 115.71\\n', '55, 65.38, 123.49\\n', '56, 70.18, 147.89\\n', '57, 70.41, 155.90\\n', '58, 66.54, 128.07\\n', '59, 66.36, 119.37\\n', '60, 67.54, 133.81\\n', '61, 66.50, 128.73\\n', '62, 69.00, 137.55\\n', '63, 68.30, 129.76\\n', '64, 67.01, 128.82\\n', '65, 70.81, 135.32\\n', '66, 68.22, 109.61\\n', '67, 69.06, 142.47\\n', '68, 67.73, 132.75\\n', '69, 67.22, 103.53\\n', '70, 67.37, 124.73\\n', '71, 65.27, 129.31\\n', '72, 70.84, 134.02\\n', '73, 69.92, 140.40\\n', '74, 64.29, 102.84\\n', '75, 68.25, 128.52\\n', '76, 66.36, 120.30\\n', '77, 68.36, 138.60\\n', '78, 65.48, 132.96\\n', '79, 69.72, 115.62\\n', '80, 67.73, 122.52\\n', '81, 68.64, 134.63\\n', '82, 66.78, 121.90\\n', '83, 70.05, 155.38\\n', '84, 66.28, 128.94\\n', '85, 69.20, 129.10\\n', '86, 69.13, 139.47\\n', '87, 67.36, 140.89\\n', '88, 70.09, 131.59\\n', '89, 70.18, 121.12\\n', '90, 68.23, 131.51\\n', '91, 68.13, 136.55\\n', '92, 70.24, 141.49\\n', '93, 71.49, 140.61\\n', '94, 69.20, 112.14\\n', '95, 70.06, 133.46\\n', '96, 70.56, 131.80\\n', '97, 66.29, 120.03\\n', '98, 63.43, 123.10\\n', '99, 66.77, 128.14\\n', '100, 68.89, 115.48\\n', '101, 64.87, 102.09\\n', '102, 67.09, 130.35\\n', '103, 68.35, 134.18\\n', '104, 65.61, 98.64\\n', '105, 67.76, 114.56\\n', '106, 68.02, 123.49\\n', '107, 67.66, 123.05\\n', '108, 66.31, 126.48\\n', '109, 69.44, 128.42\\n', '110, 63.84, 127.19\\n', '111, 67.72, 122.06\\n', '112, 70.05, 127.61\\n', '113, 70.19, 131.64\\n', '114, 65.95, 111.90\\n', '115, 70.01, 122.04\\n', '116, 68.61, 128.55\\n', '117, 68.81, 132.68\\n', '118, 69.76, 136.06\\n', '119, 65.46, 115.94\\n', '120, 68.83, 136.90\\n', '121, 65.80, 119.88\\n', '122, 67.21, 109.01\\n', '123, 69.42, 128.27\\n', '124, 68.94, 135.29\\n', '125, 67.94, 106.86\\n', '126, 65.63, 123.29\\n', '127, 66.50, 109.51\\n', '128, 67.93, 119.31\\n', '129, 68.89, 140.24\\n', '130, 70.24, 133.98\\n', '131, 68.27, 132.58\\n', '132, 71.23, 130.70\\n', '133, 69.10, 115.56\\n', '134, 64.40, 123.79\\n', '135, 71.10, 128.14\\n', '136, 68.22, 135.96\\n', '137, 65.92, 116.63\\n', '138, 67.44, 126.82\\n', '139, 73.90, 151.39\\n', '140, 69.98, 130.40\\n', '141, 69.52, 136.21\\n', '142, 65.18, 113.40\\n', '143, 68.01, 125.33\\n', '144, 68.34, 127.58\\n', '145, 65.18, 107.16\\n', '146, 68.26, 116.46\\n', '147, 68.57, 133.84\\n', '148, 64.50, 112.89\\n', '149, 68.71, 130.76\\n', '150, 68.89, 137.76\\n', '151, 69.54, 125.40\\n', '152, 67.40, 138.47\\n', '153, 66.48, 120.82\\n', '154, 66.01, 140.15\\n', '155, 72.44, 136.74\\n', '156, 64.13, 106.11\\n', '157, 70.98, 158.96\\n', '158, 67.50, 108.79\\n', '159, 72.02, 138.78\\n', '160, 65.31, 115.91\\n', '161, 67.08, 146.29\\n', '162, 64.39, 109.88\\n', '163, 69.37, 139.05\\n', '164, 68.38, 119.90\\n', '165, 65.31, 128.31\\n', '166, 67.14, 127.24\\n', '167, 68.39, 115.23\\n', '168, 66.29, 124.80\\n', '169, 67.19, 126.95\\n', '170, 65.99, 111.27\\n', '171, 69.43, 122.61\\n', '172, 67.97, 124.21\\n', '173, 67.76, 124.65\\n', '174, 65.28, 119.52\\n', '175, 73.83, 139.30\\n', '176, 66.81, 104.83\\n', '177, 66.89, 123.04\\n', '178, 65.74, 118.89\\n', '179, 65.98, 121.49\\n', '180, 66.58, 119.25\\n', '181, 67.11, 135.02\\n', '182, 65.87, 116.23\\n', '183, 66.78, 109.17\\n', '184, 68.74, 124.22\\n', '185, 66.23, 141.16\\n', '186, 65.96, 129.15\\n', '187, 68.58, 127.87\\n', '188, 66.59, 120.92\\n', '189, 66.97, 127.65\\n', '190, 68.08, 101.47\\n', '191, 70.19, 144.99\\n', '192, 65.52, 110.95\\n', '193, 67.46, 132.86\\n', '194, 67.41, 146.34\\n', '195, 69.66, 145.59\\n', '196, 65.80, 120.84\\n', '197, 66.11, 115.78\\n', '198, 68.24, 128.30\\n', '199, 68.02, 127.47\\n', '200, 71.39, 127.88 \\n']\n"
     ]
    }
   ],
   "source": [
    "#readline\n",
    "with open('./data/datasets.txt','r') as file2:\n",
    "    f=file2.readlines() #new line character '\\n' in every line\n",
    "    print(f)"
   ]
  },
  {
   "cell_type": "code",
   "execution_count": 22,
   "metadata": {},
   "outputs": [
    {
     "data": {
      "text/plain": [
       "'\"Index\", Height(Inches)\", \"Weight(Pounds)\"\\n'"
      ]
     },
     "execution_count": 22,
     "metadata": {},
     "output_type": "execute_result"
    }
   ],
   "source": [
    "#printing only one line\n",
    "f[0]"
   ]
  },
  {
   "cell_type": "code",
   "execution_count": 23,
   "metadata": {},
   "outputs": [
    {
     "data": {
      "text/plain": [
       "'197, 66.11, 115.78'"
      ]
     },
     "execution_count": 23,
     "metadata": {},
     "output_type": "execute_result"
    }
   ],
   "source": [
    "#strip() removes the new line'\\n' character\n",
    "f[4].strip()"
   ]
  }
 ],
 "metadata": {
  "kernelspec": {
   "display_name": "Python 3",
   "language": "python",
   "name": "python3"
  },
  "language_info": {
   "codemirror_mode": {
    "name": "ipython",
    "version": 3
   },
   "file_extension": ".py",
   "mimetype": "text/x-python",
   "name": "python",
   "nbconvert_exporter": "python",
   "pygments_lexer": "ipython3",
   "version": "3.11.1"
  },
  "orig_nbformat": 4
 },
 "nbformat": 4,
 "nbformat_minor": 2
}
