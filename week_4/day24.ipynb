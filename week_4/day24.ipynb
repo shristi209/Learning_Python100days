{
 "cells": [
  {
   "attachments": {},
   "cell_type": "markdown",
   "metadata": {},
   "source": [
    "# Types Of Variables"
   ]
  },
  {
   "attachments": {},
   "cell_type": "markdown",
   "metadata": {},
   "source": [
    "*    **Class Variable**\n"
   ]
  },
  {
   "attachments": {},
   "cell_type": "markdown",
   "metadata": {},
   "source": [
    "*   **Instance variable**"
   ]
  },
  {
   "cell_type": "code",
   "execution_count": 9,
   "metadata": {},
   "outputs": [
    {
     "name": "stdout",
     "output_type": "stream",
     "text": [
      "Nokia 20000 screen touch\n",
      "redmi 10000 screen touch\n"
     ]
    }
   ],
   "source": [
    "class phone:\n",
    "    mobile='screen touch'  #class varible\n",
    "    \n",
    "    def __init__(self):\n",
    "\n",
    "#these brand and costs are instance variable\n",
    "        self.brand='redmi'  \n",
    "        self.costs=10000   #can be changed\n",
    "\n",
    "p1=phone()\n",
    "p2=phone()\n",
    "\n",
    "#changed p1 value\n",
    "p1.brand='Nokia'  \n",
    "p1.costs=20000 \n",
    "\n",
    "print(p1.brand, p1.costs, p1.mobile)\n",
    "print(p2.brand, p2.costs, p2.mobile)"
   ]
  }
 ],
 "metadata": {
  "kernelspec": {
   "display_name": "Python 3",
   "language": "python",
   "name": "python3"
  },
  "language_info": {
   "codemirror_mode": {
    "name": "ipython",
    "version": 3
   },
   "file_extension": ".py",
   "mimetype": "text/x-python",
   "name": "python",
   "nbconvert_exporter": "python",
   "pygments_lexer": "ipython3",
   "version": "3.11.1"
  },
  "orig_nbformat": 4
 },
 "nbformat": 4,
 "nbformat_minor": 2
}
