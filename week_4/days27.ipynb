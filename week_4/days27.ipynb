{
 "cells": [
  {
   "attachments": {},
   "cell_type": "markdown",
   "metadata": {},
   "source": [
    "# Polymorphism"
   ]
  },
  {
   "attachments": {},
   "cell_type": "markdown",
   "metadata": {},
   "source": [
    "*   allows objects to take on multiple forms or behaviors.\n",
    "*   can be achieved through method overloading or method overriding.\n",
    "*   can also be achieved through operator overloading or operator overriding."
   ]
  },
  {
   "attachments": {},
   "cell_type": "markdown",
   "metadata": {},
   "source": [
    "**Method Overloading**"
   ]
  },
  {
   "attachments": {},
   "cell_type": "markdown",
   "metadata": {},
   "source": [
    "*   ability to define multiple methods with the same name in a class, but with different parameters"
   ]
  },
  {
   "cell_type": "code",
   "execution_count": 12,
   "metadata": {},
   "outputs": [
    {
     "name": "stdout",
     "output_type": "stream",
     "text": [
      "Area of rectangle: 50\n",
      "Area of circle: 153.86\n"
     ]
    }
   ],
   "source": [
    "class Shape:\n",
    "    def area(self):\n",
    "        pass\n",
    " \n",
    "class Rectangle(Shape):\n",
    "    def __init__(self, width, height):    #parameter width and height\n",
    "        self.width = width\n",
    "        self.height = height\n",
    " \n",
    "    def area(self):\n",
    "        return self.width * self.height  #area of rectangle lh\n",
    " \n",
    "class Circle(Shape):\n",
    "    def __init__(self, radius):    #different parameter radius\n",
    "        self.radius = radius\n",
    " \n",
    "    def area(self):\n",
    "        return 3.14 * self.radius ** 2    #area of circle Pie r^2\n",
    "    \n",
    "\n",
    "# Create a rectangle with width 5 and height 10\n",
    "rect = Rectangle(5, 10)\n",
    "\n",
    "# Calculate the area of the rectangle\n",
    "rect_area = rect.area()\n",
    "print(\"Area of rectangle:\", rect_area)\n",
    "\n",
    "# Create a circle with radius 7\n",
    "circ = Circle(7)\n",
    "\n",
    "# Calculate the area of the circle\n",
    "circ_area = circ.area()\n",
    "print(\"Area of circle:\", circ_area)"
   ]
  }
 ],
 "metadata": {
  "kernelspec": {
   "display_name": "Python 3",
   "language": "python",
   "name": "python3"
  },
  "language_info": {
   "codemirror_mode": {
    "name": "ipython",
    "version": 3
   },
   "file_extension": ".py",
   "mimetype": "text/x-python",
   "name": "python",
   "nbconvert_exporter": "python",
   "pygments_lexer": "ipython3",
   "version": "3.11.2"
  },
  "orig_nbformat": 4
 },
 "nbformat": 4,
 "nbformat_minor": 2
}
