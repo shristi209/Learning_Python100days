{
 "cells": [
  {
   "cell_type": "code",
   "execution_count": 5,
   "metadata": {},
   "outputs": [
    {
     "name": "stdout",
     "output_type": "stream",
     "text": [
      "Python chaps 23\n"
     ]
    }
   ],
   "source": [
    "#using __init__ method, single inheritance\n",
    "class parent:\n",
    "    def __init__(self, fname, fage):\n",
    "        self.name=fname\n",
    "        self.age=fage \n",
    "    \n",
    "    def view(self):\n",
    "        print(self.name, self.age)\n",
    "    \n",
    "\n",
    "class child(parent):   #child class\n",
    "    def __init__(self, fname, fage):\n",
    "        parent.__init__(self,fname,fage)\n",
    "        self.lastname=\"chaps\"\n",
    "    \n",
    "    def view(self):\n",
    "        print(self.age,self.lastname,self.name)\n",
    "\n",
    "\n",
    "ob=child(23,\"Python\")\n",
    "ob.view()\n"
   ]
  },
  {
   "attachments": {},
   "cell_type": "markdown",
   "metadata": {},
   "source": [
    "# Multiple Inheritance"
   ]
  },
  {
   "attachments": {},
   "cell_type": "markdown",
   "metadata": {},
   "source": [
    "*   **has two parent class and 1 child class**"
   ]
  },
  {
   "cell_type": "code",
   "execution_count": 15,
   "metadata": {},
   "outputs": [
    {
     "name": "stdout",
     "output_type": "stream",
     "text": [
      "Facebook is a social media platform with 100 % Popularity\n",
      "Redmi is a smart phone with 70 % Popularity\n",
      "Jordan is a branded shoes with 60 % Popularity\n"
     ]
    }
   ],
   "source": [
    "#example_of_multiple_inheritance\n",
    "\n",
    "class Brands:                  #parent_class\n",
    "    brand1 = \"Facebook\"\n",
    "    brand2 = \"Redmi\"\n",
    "    brand3 = \"Jordan\"\n",
    "    \n",
    "class Products:         #parent class\n",
    "    prod_1 = \"social media platform\"\n",
    "    prod_2 = \"smart phone\"\n",
    "    prod_3 = \"branded shoes\"\n",
    "    \n",
    "class Popularity(Brands,Products): #child_class\n",
    "    prod_1_popularity = 100\n",
    "    prod_2_popularity = 70\n",
    "    prod_3_popularity = 60\n",
    "\n",
    "obj_1 = Popularity()             #Child class\n",
    "print(obj_1.brand1+\" is a \"+obj_1.prod_1+ \" with \" + str(obj_1.prod_1_popularity)+\" % Popularity\") #cannot concatenate int and str so converting\n",
    "print(obj_1.brand2+\" is a \"+obj_1.prod_2+ \" with \" + str(obj_1.prod_2_popularity)+\" % Popularity\")\n",
    "print(obj_1.brand3+\" is a \"+obj_1.prod_3+ \" with \" + str(obj_1.prod_3_popularity)+\" % Popularity\")\n",
    "#Popularity child class can derived or inherit from 2 parent class Brands and product\n"
   ]
  },
  {
   "cell_type": "code",
   "execution_count": 17,
   "metadata": {},
   "outputs": [
    {
     "name": "stdout",
     "output_type": "stream",
     "text": [
      "This is a parent 1\n",
      "This is a parent 2\n"
     ]
    }
   ],
   "source": [
    "#another example using function\n",
    "class parent1:\n",
    "    def func1(self):\n",
    "        print(\"This is a parent 1\")\n",
    "\n",
    "class parent2:\n",
    "    def func2(self):\n",
    "        print(\"This is a parent 2\")\n",
    "\n",
    "class child(parent1,parent2):\n",
    "    def func3(self):\n",
    "        print('This is a child class')\n",
    "\n",
    "ob=child() #Here,we can class parent 1 and parent 2 through child class\n",
    "ob.func1()\n",
    "ob.func2()"
   ]
  },
  {
   "attachments": {},
   "cell_type": "markdown",
   "metadata": {},
   "source": [
    "# Multilevel Inheritance"
   ]
  },
  {
   "attachments": {},
   "cell_type": "markdown",
   "metadata": {},
   "source": [
    "*   **Child class acts as a parent class for another child class**"
   ]
  },
  {
   "cell_type": "code",
   "execution_count": 20,
   "metadata": {},
   "outputs": [
    {
     "name": "stdout",
     "output_type": "stream",
     "text": [
      "This is a parent 1\n",
      "This is a child class\n"
     ]
    }
   ],
   "source": [
    "class parent1:\n",
    "    def func1(self):\n",
    "        print(\"This is a parent 1\")\n",
    "\n",
    "class child(parent1):\n",
    "    def func2(self):\n",
    "        print(\"This is a child class\")\n",
    "\n",
    "class grand_child(child):\n",
    "    def func3(self):\n",
    "        print('This is a grand child class and can access both parent1 and child class')\n",
    "\n",
    "ob=grand_child()\n",
    "ob.func1()  #can get parent1 class also\n",
    "ob.func2()"
   ]
  },
  {
   "attachments": {},
   "cell_type": "markdown",
   "metadata": {},
   "source": [
    "# Hierarchial Inheritance"
   ]
  },
  {
   "attachments": {},
   "cell_type": "markdown",
   "metadata": {},
   "source": [
    "*   **Derive or inherit more than one child class from one same parent class**"
   ]
  },
  {
   "cell_type": "code",
   "execution_count": 23,
   "metadata": {},
   "outputs": [
    {
     "name": "stdout",
     "output_type": "stream",
     "text": [
      "This is a parent 1\n",
      "This is a parent 1\n",
      "This is a parent 1\n"
     ]
    }
   ],
   "source": [
    "#one parent class and more child class\n",
    "class parent1:\n",
    "    def func1(self):\n",
    "        print(\"This is a parent 1\")\n",
    "\n",
    "class child1(parent1):\n",
    "    def func2(self):\n",
    "        print(\"This is a child 1 class\")\n",
    "\n",
    "class child2(parent1):\n",
    "    def func3(self):\n",
    "        print('This is a child 2 class')\n",
    "\n",
    "class child3(parent1):\n",
    "    def func4(self):\n",
    "        print('This is a child 3 class')\n",
    "\n",
    "#all child can access parent class\n",
    "ob1=child1()\n",
    "ob1.func1()\n",
    "\n",
    "ob2=child1()\n",
    "ob2.func1()\n",
    "\n",
    "ob3=child1()\n",
    "ob3.func1()"
   ]
  },
  {
   "attachments": {},
   "cell_type": "markdown",
   "metadata": {},
   "source": [
    "# Hybrid class"
   ]
  },
  {
   "attachments": {},
   "cell_type": "markdown",
   "metadata": {},
   "source": [
    "*   **The combinations of simple, multiple, multilevel and hierarchical inheritance**"
   ]
  },
  {
   "attachments": {},
   "cell_type": "markdown",
   "metadata": {},
   "source": [
    "*   Here, we have 1st hierarchial inheritance(1 parent, 2 child)and multiple inheritance(2 child becomes 2 parent for 1 child)"
   ]
  },
  {
   "cell_type": "code",
   "execution_count": 24,
   "metadata": {},
   "outputs": [
    {
     "name": "stdout",
     "output_type": "stream",
     "text": [
      "This is a parent 1\n",
      "This is a child 1 class\n",
      "This is a child 2 class\n"
     ]
    }
   ],
   "source": [
    "class parent1:\n",
    "    def func1(self):\n",
    "        print(\"This is a parent 1\")\n",
    "\n",
    "class child1(parent1):\n",
    "    def func2(self):\n",
    "        print(\"This is a child 1 class\")\n",
    "\n",
    "class child2(parent1):\n",
    "    def func3(self):\n",
    "        print('This is a child 2 class')\n",
    "\n",
    "class grand_child(child1,child2):\n",
    "    def func4(self):\n",
    "        print('This is a class which can access 2 child class')\n",
    "\n",
    "ob=grand_child()\n",
    "ob.func1()\n",
    "ob.func2()\n",
    "ob.func3()"
   ]
  }
 ],
 "metadata": {
  "kernelspec": {
   "display_name": "Python 3",
   "language": "python",
   "name": "python3"
  },
  "language_info": {
   "codemirror_mode": {
    "name": "ipython",
    "version": 3
   },
   "file_extension": ".py",
   "mimetype": "text/x-python",
   "name": "python",
   "nbconvert_exporter": "python",
   "pygments_lexer": "ipython3",
   "version": "3.11.2"
  },
  "orig_nbformat": 4
 },
 "nbformat": 4,
 "nbformat_minor": 2
}
