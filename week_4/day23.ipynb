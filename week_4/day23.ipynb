{
 "cells": [
  {
   "attachments": {},
   "cell_type": "markdown",
   "metadata": {},
   "source": [
    "**Class and object**"
   ]
  },
  {
   "cell_type": "code",
   "execution_count": 12,
   "metadata": {},
   "outputs": [
    {
     "name": "stdout",
     "output_type": "stream",
     "text": [
      "98% First Position Class 6\n",
      "98% First Position Class 6\n"
     ]
    }
   ],
   "source": [
    "class student: #student is class\n",
    "    def marks(self): #defining method\n",
    "        print('98%','First Position','Class 6')\n",
    "\n",
    "s=student() # creating instance(s) of the student class\n",
    "\n",
    "#  two different ways to call the marks method \n",
    "student.marks(s) #passing 's' as an argument\n",
    "s.marks() # calls the marks method directly on the s object"
   ]
  },
  {
   "attachments": {},
   "cell_type": "markdown",
   "metadata": {},
   "source": [
    "**_init_ Methods**"
   ]
  },
  {
   "cell_type": "code",
   "execution_count": 13,
   "metadata": {},
   "outputs": [
    {
     "name": "stdout",
     "output_type": "stream",
     "text": [
      "First, Grade 10\n",
      "Fail, Grade 2\n"
     ]
    }
   ],
   "source": [
    "#_init_(self) is to initializes the object attribute.\n",
    "#self -> self parameter refers to the object being created and is used to access and modify the object's attributes.\n",
    "class student:\n",
    "    # 2 method _init_ and marks\n",
    "    def __init__(self, position, grade): # 2 parameter position and grades\n",
    "        #these two instance variable hold the position and grade of student\n",
    "        self.position=position\n",
    "        self.grade=grade\n",
    "\n",
    "    def marks(self): #this method prints out the result\n",
    "        print(self.position, self.grade)\n",
    "\n",
    "#two instances student1 & student2, initializes the value\n",
    "student1=student('First,','Grade 10')\n",
    "student2=student('Fail,','Grade 2')\n",
    "\n",
    "student1.marks() #call will print the value\n",
    "student2.marks()"
   ]
  }
 ],
 "metadata": {
  "kernelspec": {
   "display_name": "Python 3",
   "language": "python",
   "name": "python3"
  },
  "language_info": {
   "codemirror_mode": {
    "name": "ipython",
    "version": 3
   },
   "file_extension": ".py",
   "mimetype": "text/x-python",
   "name": "python",
   "nbconvert_exporter": "python",
   "pygments_lexer": "ipython3",
   "version": "3.11.1"
  },
  "orig_nbformat": 4
 },
 "nbformat": 4,
 "nbformat_minor": 2
}
