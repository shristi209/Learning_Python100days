{
 "cells": [
  {
   "attachments": {},
   "cell_type": "markdown",
   "metadata": {},
   "source": [
    "# Inheritance"
   ]
  },
  {
   "attachments": {},
   "cell_type": "markdown",
   "metadata": {},
   "source": [
    "*   allows a new class (called the derived class) to be based on an existing class (called the base class). "
   ]
  },
  {
   "attachments": {},
   "cell_type": "markdown",
   "metadata": {},
   "source": [
    "*   Types of inheritance:\n",
    "    *   Single inheritance\n",
    "    *   Multiple inheritance\n",
    "    *   Multilevel inheritance\n",
    "    *   Hierarchial inheritance\n",
    "    *   Hybrid inheritance"
   ]
  },
  {
   "cell_type": "code",
   "execution_count": 2,
   "metadata": {},
   "outputs": [
    {
     "name": "stdout",
     "output_type": "stream",
     "text": [
      "Facebook is a social media platform\n",
      "Redmi is a smart phone\n",
      "Jordan is a branded shoes\n"
     ]
    }
   ],
   "source": [
    "#syntax_of_single_inheritance: one parent class has one child class\n",
    "\n",
    "class Brands:                  #parent_class\n",
    "    brand1 = \"Facebook\"\n",
    "    brand2 = \"Redmi\"\n",
    "    brand3 = \"Jordan\"\n",
    "    \n",
    "class Products(Brands):         #child_class takes the property of parent class\n",
    "    prod_1 = \"social media platform\"\n",
    "    prod_2 = \"smart phone\"\n",
    "    prod_3 = \"branded shoes\"\n",
    "    \n",
    "obj_1 = Products()             #Object_creation\n",
    "print(obj_1.brand1+\" is a \"+obj_1.prod_1)\n",
    "print(obj_1.brand2+\" is a \"+obj_1.prod_2)\n",
    "print(obj_1.brand3+\" is a \"+obj_1.prod_3)"
   ]
  }
 ],
 "metadata": {
  "kernelspec": {
   "display_name": "Python 3",
   "language": "python",
   "name": "python3"
  },
  "language_info": {
   "codemirror_mode": {
    "name": "ipython",
    "version": 3
   },
   "file_extension": ".py",
   "mimetype": "text/x-python",
   "name": "python",
   "nbconvert_exporter": "python",
   "pygments_lexer": "ipython3",
   "version": "3.11.2"
  },
  "orig_nbformat": 4
 },
 "nbformat": 4,
 "nbformat_minor": 2
}
