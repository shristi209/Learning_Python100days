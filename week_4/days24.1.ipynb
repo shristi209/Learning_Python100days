{
 "cells": [
  {
   "attachments": {},
   "cell_type": "markdown",
   "metadata": {},
   "source": [
    "# Types Of Methods"
   ]
  },
  {
   "attachments": {},
   "cell_type": "markdown",
   "metadata": {},
   "source": [
    "*   **Instance Methods**\n",
    "*   **Class Methods**\n",
    "*   **Static Methods**"
   ]
  },
  {
   "cell_type": "code",
   "execution_count": 11,
   "metadata": {},
   "outputs": [
    {
     "name": "stdout",
     "output_type": "stream",
     "text": [
      "78.66666666666667\n",
      "89.0\n",
      "This is student class\n",
      "None\n"
     ]
    }
   ],
   "source": [
    "#finding out the percentage of student \n",
    "class student:\n",
    "    school='Devi sec school' # Class variable\n",
    "\n",
    "    def __init__(self, marks1, marks2, marks3): #instance method\n",
    "        self.marks1=marks1 #instance method works with instance variables\n",
    "        self.marks2=marks2\n",
    "        self.marks3=marks3\n",
    "\n",
    "    def avg(self):  #instance method\n",
    "        return (self.marks1+self.marks2+self.marks3)/3\n",
    "    \n",
    "    #using class method\n",
    "    @classmethod #special decorator  to define a class method\n",
    "    def info(cls): #working with class 'cls'abs\n",
    "        return cls.school\n",
    "    \n",
    "    @staticmethod #special decorator  to define a static method\n",
    "    def info1(): #static method\n",
    "        print('This is student class')\n",
    "\n",
    "student1=student(67,80,89)\n",
    "student2=student(78,90,99)\n",
    "\n",
    "print(student1.avg())\n",
    "print(student2.avg())\n",
    "\n",
    "#print(student.info())\n",
    "print(student.info1())"
   ]
  }
 ],
 "metadata": {
  "kernelspec": {
   "display_name": "Python 3",
   "language": "python",
   "name": "python3"
  },
  "language_info": {
   "codemirror_mode": {
    "name": "ipython",
    "version": 3
   },
   "file_extension": ".py",
   "mimetype": "text/x-python",
   "name": "python",
   "nbconvert_exporter": "python",
   "pygments_lexer": "ipython3",
   "version": "3.11.1"
  },
  "orig_nbformat": 4
 },
 "nbformat": 4,
 "nbformat_minor": 2
}
