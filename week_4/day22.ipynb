{
  "cells": [
    {
      "attachments": {},
      "cell_type": "markdown",
      "metadata": {
        "id": "uKwbN7mbZ21V"
      },
      "source": [
        "*  **Class -> Design** \n",
        "            It is a Blueprint or template for creating objects that defines a set of attributes and methods that the objects will have, also it serves as a model for creating multiple objects with similar properties\n",
        "\n",
        "*   **Object -> Instance**\n",
        "            Object is an instance of a class, When we create an object from a class, we are creating a new instance of that class.\n",
        "\n",
        "    *    **Attribute -> Variables**\n",
        "                They are like variables that belong to an object and can hold a value.\n",
        "    *    **Methods -> Functions** \n",
        "                The functions that are defined inside a class and are used to define the behavior of the objects that belong to that class.\n",
        "\n",
        "\n",
        "        *   **__init__ -> special method**\n",
        "                    Always takes one argument i.e. *self* to refer to the object being created. It can also take additional arguments to initialize the object's attributes."
      ]
    }
  ],
  "metadata": {
    "colab": {
      "provenance": []
    },
    "kernelspec": {
      "display_name": "Python 3",
      "name": "python3"
    },
    "language_info": {
      "name": "python"
    }
  },
  "nbformat": 4,
  "nbformat_minor": 0
}
