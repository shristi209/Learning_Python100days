{
  "nbformat": 4,
  "nbformat_minor": 0,
  "metadata": {
    "colab": {
      "provenance": []
    },
    "kernelspec": {
      "name": "python3",
      "display_name": "Python 3"
    },
    "language_info": {
      "name": "python"
    }
  },
  "cells": [
    {
      "cell_type": "markdown",
      "source": [
        "#Violin Plot"
      ],
      "metadata": {
        "id": "nLO_CfZuThCz"
      }
    },
    {
      "cell_type": "markdown",
      "source": [
        "useful when you want to visualize the distribution of a continuous variable or the comparison of the distributions of multiple continuous variables"
      ],
      "metadata": {
        "id": "hFc8k774UqjT"
      }
    },
    {
      "cell_type": "markdown",
      "source": [
        "Necessary for: Comparing Distribution, Identifying outliers, Displaying multiple distributions"
      ],
      "metadata": {
        "id": "czug7uP7U19c"
      }
    },
    {
      "cell_type": "code",
      "execution_count": 1,
      "metadata": {
        "id": "bQFqJ9POSF0B"
      },
      "outputs": [],
      "source": [
        "import seaborn as sns\n",
        "import pandas as pd"
      ]
    },
    {
      "cell_type": "code",
      "source": [
        "sales=pd.read_csv('sales1.csv')\n",
        "sales.head(2)"
      ],
      "metadata": {
        "colab": {
          "base_uri": "https://localhost:8080/",
          "height": 413
        },
        "id": "DVXCYJA7TQv1",
        "outputId": "44d582a8-8f2f-4930-d069-460afa5550c5"
      },
      "execution_count": 4,
      "outputs": [
        {
          "output_type": "execute_result",
          "data": {
            "text/plain": [
              "  Row ID Order ID  Order Date Order Priority Order Quantity     Sales  \\\n",
              "0      1        3  10/13/2010            Low              6    261.54   \n",
              "1     49      293   10/1/2012           High             49  10123.02   \n",
              "\n",
              "   Discount       Ship Mode  Profit  Unit Price  ...       Customer Name  \\\n",
              "0      0.04     Regular Air -213.25       38.94  ...  Muhammed MacIntyre   \n",
              "1      0.07  Delivery Truck  457.81      208.16  ...        Barry French   \n",
              "\n",
              "  Province   Region Customer Segment Product Category    Product Sub-Category  \\\n",
              "0  Nunavut  Nunavut   Small Business  Office Supplies  Storage & Organization   \n",
              "1  Nunavut  Nunavut         Consumer  Office Supplies              Appliances   \n",
              "\n",
              "                                        Product Name Product Container  \\\n",
              "0   Eldon Base for stackable storage shelf, platinum         Large Box   \n",
              "1  1.7 Cubic Foot Compact \"Cube\" Office Refrigera...        Jumbo Drum   \n",
              "\n",
              "  Product Base Margin   Ship Date  \n",
              "0                0.80  10/20/2010  \n",
              "1                0.58   10/2/2012  \n",
              "\n",
              "[2 rows x 21 columns]"
            ],
            "text/html": [
              "\n",
              "  <div id=\"df-c255c8d6-7eff-43a9-978a-c5b2579337ac\">\n",
              "    <div class=\"colab-df-container\">\n",
              "      <div>\n",
              "<style scoped>\n",
              "    .dataframe tbody tr th:only-of-type {\n",
              "        vertical-align: middle;\n",
              "    }\n",
              "\n",
              "    .dataframe tbody tr th {\n",
              "        vertical-align: top;\n",
              "    }\n",
              "\n",
              "    .dataframe thead th {\n",
              "        text-align: right;\n",
              "    }\n",
              "</style>\n",
              "<table border=\"1\" class=\"dataframe\">\n",
              "  <thead>\n",
              "    <tr style=\"text-align: right;\">\n",
              "      <th></th>\n",
              "      <th>Row ID</th>\n",
              "      <th>Order ID</th>\n",
              "      <th>Order Date</th>\n",
              "      <th>Order Priority</th>\n",
              "      <th>Order Quantity</th>\n",
              "      <th>Sales</th>\n",
              "      <th>Discount</th>\n",
              "      <th>Ship Mode</th>\n",
              "      <th>Profit</th>\n",
              "      <th>Unit Price</th>\n",
              "      <th>...</th>\n",
              "      <th>Customer Name</th>\n",
              "      <th>Province</th>\n",
              "      <th>Region</th>\n",
              "      <th>Customer Segment</th>\n",
              "      <th>Product Category</th>\n",
              "      <th>Product Sub-Category</th>\n",
              "      <th>Product Name</th>\n",
              "      <th>Product Container</th>\n",
              "      <th>Product Base Margin</th>\n",
              "      <th>Ship Date</th>\n",
              "    </tr>\n",
              "  </thead>\n",
              "  <tbody>\n",
              "    <tr>\n",
              "      <th>0</th>\n",
              "      <td>1</td>\n",
              "      <td>3</td>\n",
              "      <td>10/13/2010</td>\n",
              "      <td>Low</td>\n",
              "      <td>6</td>\n",
              "      <td>261.54</td>\n",
              "      <td>0.04</td>\n",
              "      <td>Regular Air</td>\n",
              "      <td>-213.25</td>\n",
              "      <td>38.94</td>\n",
              "      <td>...</td>\n",
              "      <td>Muhammed MacIntyre</td>\n",
              "      <td>Nunavut</td>\n",
              "      <td>Nunavut</td>\n",
              "      <td>Small Business</td>\n",
              "      <td>Office Supplies</td>\n",
              "      <td>Storage &amp; Organization</td>\n",
              "      <td>Eldon Base for stackable storage shelf, platinum</td>\n",
              "      <td>Large Box</td>\n",
              "      <td>0.80</td>\n",
              "      <td>10/20/2010</td>\n",
              "    </tr>\n",
              "    <tr>\n",
              "      <th>1</th>\n",
              "      <td>49</td>\n",
              "      <td>293</td>\n",
              "      <td>10/1/2012</td>\n",
              "      <td>High</td>\n",
              "      <td>49</td>\n",
              "      <td>10123.02</td>\n",
              "      <td>0.07</td>\n",
              "      <td>Delivery Truck</td>\n",
              "      <td>457.81</td>\n",
              "      <td>208.16</td>\n",
              "      <td>...</td>\n",
              "      <td>Barry French</td>\n",
              "      <td>Nunavut</td>\n",
              "      <td>Nunavut</td>\n",
              "      <td>Consumer</td>\n",
              "      <td>Office Supplies</td>\n",
              "      <td>Appliances</td>\n",
              "      <td>1.7 Cubic Foot Compact \"Cube\" Office Refrigera...</td>\n",
              "      <td>Jumbo Drum</td>\n",
              "      <td>0.58</td>\n",
              "      <td>10/2/2012</td>\n",
              "    </tr>\n",
              "  </tbody>\n",
              "</table>\n",
              "<p>2 rows × 21 columns</p>\n",
              "</div>\n",
              "      <button class=\"colab-df-convert\" onclick=\"convertToInteractive('df-c255c8d6-7eff-43a9-978a-c5b2579337ac')\"\n",
              "              title=\"Convert this dataframe to an interactive table.\"\n",
              "              style=\"display:none;\">\n",
              "        \n",
              "  <svg xmlns=\"http://www.w3.org/2000/svg\" height=\"24px\"viewBox=\"0 0 24 24\"\n",
              "       width=\"24px\">\n",
              "    <path d=\"M0 0h24v24H0V0z\" fill=\"none\"/>\n",
              "    <path d=\"M18.56 5.44l.94 2.06.94-2.06 2.06-.94-2.06-.94-.94-2.06-.94 2.06-2.06.94zm-11 1L8.5 8.5l.94-2.06 2.06-.94-2.06-.94L8.5 2.5l-.94 2.06-2.06.94zm10 10l.94 2.06.94-2.06 2.06-.94-2.06-.94-.94-2.06-.94 2.06-2.06.94z\"/><path d=\"M17.41 7.96l-1.37-1.37c-.4-.4-.92-.59-1.43-.59-.52 0-1.04.2-1.43.59L10.3 9.45l-7.72 7.72c-.78.78-.78 2.05 0 2.83L4 21.41c.39.39.9.59 1.41.59.51 0 1.02-.2 1.41-.59l7.78-7.78 2.81-2.81c.8-.78.8-2.07 0-2.86zM5.41 20L4 18.59l7.72-7.72 1.47 1.35L5.41 20z\"/>\n",
              "  </svg>\n",
              "      </button>\n",
              "      \n",
              "  <style>\n",
              "    .colab-df-container {\n",
              "      display:flex;\n",
              "      flex-wrap:wrap;\n",
              "      gap: 12px;\n",
              "    }\n",
              "\n",
              "    .colab-df-convert {\n",
              "      background-color: #E8F0FE;\n",
              "      border: none;\n",
              "      border-radius: 50%;\n",
              "      cursor: pointer;\n",
              "      display: none;\n",
              "      fill: #1967D2;\n",
              "      height: 32px;\n",
              "      padding: 0 0 0 0;\n",
              "      width: 32px;\n",
              "    }\n",
              "\n",
              "    .colab-df-convert:hover {\n",
              "      background-color: #E2EBFA;\n",
              "      box-shadow: 0px 1px 2px rgba(60, 64, 67, 0.3), 0px 1px 3px 1px rgba(60, 64, 67, 0.15);\n",
              "      fill: #174EA6;\n",
              "    }\n",
              "\n",
              "    [theme=dark] .colab-df-convert {\n",
              "      background-color: #3B4455;\n",
              "      fill: #D2E3FC;\n",
              "    }\n",
              "\n",
              "    [theme=dark] .colab-df-convert:hover {\n",
              "      background-color: #434B5C;\n",
              "      box-shadow: 0px 1px 3px 1px rgba(0, 0, 0, 0.15);\n",
              "      filter: drop-shadow(0px 1px 2px rgba(0, 0, 0, 0.3));\n",
              "      fill: #FFFFFF;\n",
              "    }\n",
              "  </style>\n",
              "\n",
              "      <script>\n",
              "        const buttonEl =\n",
              "          document.querySelector('#df-c255c8d6-7eff-43a9-978a-c5b2579337ac button.colab-df-convert');\n",
              "        buttonEl.style.display =\n",
              "          google.colab.kernel.accessAllowed ? 'block' : 'none';\n",
              "\n",
              "        async function convertToInteractive(key) {\n",
              "          const element = document.querySelector('#df-c255c8d6-7eff-43a9-978a-c5b2579337ac');\n",
              "          const dataTable =\n",
              "            await google.colab.kernel.invokeFunction('convertToInteractive',\n",
              "                                                     [key], {});\n",
              "          if (!dataTable) return;\n",
              "\n",
              "          const docLinkHtml = 'Like what you see? Visit the ' +\n",
              "            '<a target=\"_blank\" href=https://colab.research.google.com/notebooks/data_table.ipynb>data table notebook</a>'\n",
              "            + ' to learn more about interactive tables.';\n",
              "          element.innerHTML = '';\n",
              "          dataTable['output_type'] = 'display_data';\n",
              "          await google.colab.output.renderOutput(dataTable, element);\n",
              "          const docLink = document.createElement('div');\n",
              "          docLink.innerHTML = docLinkHtml;\n",
              "          element.appendChild(docLink);\n",
              "        }\n",
              "      </script>\n",
              "    </div>\n",
              "  </div>\n",
              "  "
            ]
          },
          "metadata": {},
          "execution_count": 4
        }
      ]
    },
    {
      "cell_type": "code",
      "source": [
        "sns.catplot(x='Product Category', y= \"Shipping Cost\",data=sales,kind=\"violin\")"
      ],
      "metadata": {
        "colab": {
          "base_uri": "https://localhost:8080/",
          "height": 386
        },
        "id": "nPifZBhuTQy9",
        "outputId": "2e906318-5913-4c42-aeab-0ad4558fc310"
      },
      "execution_count": 7,
      "outputs": [
        {
          "output_type": "execute_result",
          "data": {
            "text/plain": [
              "<seaborn.axisgrid.FacetGrid at 0x7fb4ac8b3cd0>"
            ]
          },
          "metadata": {},
          "execution_count": 7
        },
        {
          "output_type": "display_data",
          "data": {
            "text/plain": [
              "<Figure size 360x360 with 1 Axes>"
            ],
            "image/png": "[encoded data removed]"
          },
          "metadata": {
            "needs_background": "light"
          }
        }
      ]
    },
    {
      "cell_type": "markdown",
      "source": [
        "Figure shows the distribution, where it is more wider."
      ],
      "metadata": {
        "id": "9SE6lDH6V8rn"
      }
    },
    {
      "cell_type": "code",
      "source": [
        "sns.catplot(x='Product Category', y= \"Shipping Cost\",hue=\"Ship Mode\", inner=\"stick\",data=sales,kind=\"violin\")"
      ],
      "metadata": {
        "colab": {
          "base_uri": "https://localhost:8080/",
          "height": 386
        },
        "id": "Xv0GoEMmWjR8",
        "outputId": "d808aef6-d982-4c7b-9096-184f9bb83c38"
      },
      "execution_count": 11,
      "outputs": [
        {
          "output_type": "execute_result",
          "data": {
            "text/plain": [
              "<seaborn.axisgrid.FacetGrid at 0x7fb4a9e0c2e0>"
            ]
          },
          "metadata": {},
          "execution_count": 11
        },
        {
          "output_type": "display_data",
          "data": {
            "text/plain": [
              "<Figure size 467x360 with 1 Axes>"
            ],
            "image/png": "[encoded data removed]"
          },
          "metadata": {
            "needs_background": "light"
          }
        }
      ]
    },
    {
      "cell_type": "markdown",
      "source": [
        "#Bar Plot"
      ],
      "metadata": {
        "id": "hvfWyKzSZAqo"
      }
    },
    {
      "cell_type": "markdown",
      "source": [
        "This function allows you to create bar charts with confidence intervals(confidence intervals are a measure of the uncertainty associated with a statistical estimate, such as a mean or a proportion). "
      ],
      "metadata": {
        "id": "BWpyvWvhbqMx"
      }
    },
    {
      "cell_type": "code",
      "source": [
        "sales.head(2)"
      ],
      "metadata": {
        "colab": {
          "base_uri": "https://localhost:8080/",
          "height": 413
        },
        "id": "zf-CctRoWjVg",
        "outputId": "34f0b35e-759d-40f5-990e-7a445b9aa47f"
      },
      "execution_count": 13,
      "outputs": [
        {
          "output_type": "execute_result",
          "data": {
            "text/plain": [
              "  Row ID Order ID  Order Date Order Priority Order Quantity     Sales  \\\n",
              "0      1        3  10/13/2010            Low              6    261.54   \n",
              "1     49      293   10/1/2012           High             49  10123.02   \n",
              "\n",
              "   Discount       Ship Mode  Profit  Unit Price  ...       Customer Name  \\\n",
              "0      0.04     Regular Air -213.25       38.94  ...  Muhammed MacIntyre   \n",
              "1      0.07  Delivery Truck  457.81      208.16  ...        Barry French   \n",
              "\n",
              "  Province   Region Customer Segment Product Category    Product Sub-Category  \\\n",
              "0  Nunavut  Nunavut   Small Business  Office Supplies  Storage & Organization   \n",
              "1  Nunavut  Nunavut         Consumer  Office Supplies              Appliances   \n",
              "\n",
              "                                        Product Name Product Container  \\\n",
              "0   Eldon Base for stackable storage shelf, platinum         Large Box   \n",
              "1  1.7 Cubic Foot Compact \"Cube\" Office Refrigera...        Jumbo Drum   \n",
              "\n",
              "  Product Base Margin   Ship Date  \n",
              "0                0.80  10/20/2010  \n",
              "1                0.58   10/2/2012  \n",
              "\n",
              "[2 rows x 21 columns]"
            ],
            "text/html": [
              "\n",
              "  <div id=\"df-aee0ef58-d1ee-4316-a559-f61bd23e17ef\">\n",
              "    <div class=\"colab-df-container\">\n",
              "      <div>\n",
              "<style scoped>\n",
              "    .dataframe tbody tr th:only-of-type {\n",
              "        vertical-align: middle;\n",
              "    }\n",
              "\n",
              "    .dataframe tbody tr th {\n",
              "        vertical-align: top;\n",
              "    }\n",
              "\n",
              "    .dataframe thead th {\n",
              "        text-align: right;\n",
              "    }\n",
              "</style>\n",
              "<table border=\"1\" class=\"dataframe\">\n",
              "  <thead>\n",
              "    <tr style=\"text-align: right;\">\n",
              "      <th></th>\n",
              "      <th>Row ID</th>\n",
              "      <th>Order ID</th>\n",
              "      <th>Order Date</th>\n",
              "      <th>Order Priority</th>\n",
              "      <th>Order Quantity</th>\n",
              "      <th>Sales</th>\n",
              "      <th>Discount</th>\n",
              "      <th>Ship Mode</th>\n",
              "      <th>Profit</th>\n",
              "      <th>Unit Price</th>\n",
              "      <th>...</th>\n",
              "      <th>Customer Name</th>\n",
              "      <th>Province</th>\n",
              "      <th>Region</th>\n",
              "      <th>Customer Segment</th>\n",
              "      <th>Product Category</th>\n",
              "      <th>Product Sub-Category</th>\n",
              "      <th>Product Name</th>\n",
              "      <th>Product Container</th>\n",
              "      <th>Product Base Margin</th>\n",
              "      <th>Ship Date</th>\n",
              "    </tr>\n",
              "  </thead>\n",
              "  <tbody>\n",
              "    <tr>\n",
              "      <th>0</th>\n",
              "      <td>1</td>\n",
              "      <td>3</td>\n",
              "      <td>10/13/2010</td>\n",
              "      <td>Low</td>\n",
              "      <td>6</td>\n",
              "      <td>261.54</td>\n",
              "      <td>0.04</td>\n",
              "      <td>Regular Air</td>\n",
              "      <td>-213.25</td>\n",
              "      <td>38.94</td>\n",
              "      <td>...</td>\n",
              "      <td>Muhammed MacIntyre</td>\n",
              "      <td>Nunavut</td>\n",
              "      <td>Nunavut</td>\n",
              "      <td>Small Business</td>\n",
              "      <td>Office Supplies</td>\n",
              "      <td>Storage &amp; Organization</td>\n",
              "      <td>Eldon Base for stackable storage shelf, platinum</td>\n",
              "      <td>Large Box</td>\n",
              "      <td>0.80</td>\n",
              "      <td>10/20/2010</td>\n",
              "    </tr>\n",
              "    <tr>\n",
              "      <th>1</th>\n",
              "      <td>49</td>\n",
              "      <td>293</td>\n",
              "      <td>10/1/2012</td>\n",
              "      <td>High</td>\n",
              "      <td>49</td>\n",
              "      <td>10123.02</td>\n",
              "      <td>0.07</td>\n",
              "      <td>Delivery Truck</td>\n",
              "      <td>457.81</td>\n",
              "      <td>208.16</td>\n",
              "      <td>...</td>\n",
              "      <td>Barry French</td>\n",
              "      <td>Nunavut</td>\n",
              "      <td>Nunavut</td>\n",
              "      <td>Consumer</td>\n",
              "      <td>Office Supplies</td>\n",
              "      <td>Appliances</td>\n",
              "      <td>1.7 Cubic Foot Compact \"Cube\" Office Refrigera...</td>\n",
              "      <td>Jumbo Drum</td>\n",
              "      <td>0.58</td>\n",
              "      <td>10/2/2012</td>\n",
              "    </tr>\n",
              "  </tbody>\n",
              "</table>\n",
              "<p>2 rows × 21 columns</p>\n",
              "</div>\n",
              "      <button class=\"colab-df-convert\" onclick=\"convertToInteractive('df-aee0ef58-d1ee-4316-a559-f61bd23e17ef')\"\n",
              "              title=\"Convert this dataframe to an interactive table.\"\n",
              "              style=\"display:none;\">\n",
              "        \n",
              "  <svg xmlns=\"http://www.w3.org/2000/svg\" height=\"24px\"viewBox=\"0 0 24 24\"\n",
              "       width=\"24px\">\n",
              "    <path d=\"M0 0h24v24H0V0z\" fill=\"none\"/>\n",
              "    <path d=\"M18.56 5.44l.94 2.06.94-2.06 2.06-.94-2.06-.94-.94-2.06-.94 2.06-2.06.94zm-11 1L8.5 8.5l.94-2.06 2.06-.94-2.06-.94L8.5 2.5l-.94 2.06-2.06.94zm10 10l.94 2.06.94-2.06 2.06-.94-2.06-.94-.94-2.06-.94 2.06-2.06.94z\"/><path d=\"M17.41 7.96l-1.37-1.37c-.4-.4-.92-.59-1.43-.59-.52 0-1.04.2-1.43.59L10.3 9.45l-7.72 7.72c-.78.78-.78 2.05 0 2.83L4 21.41c.39.39.9.59 1.41.59.51 0 1.02-.2 1.41-.59l7.78-7.78 2.81-2.81c.8-.78.8-2.07 0-2.86zM5.41 20L4 18.59l7.72-7.72 1.47 1.35L5.41 20z\"/>\n",
              "  </svg>\n",
              "      </button>\n",
              "      \n",
              "  <style>\n",
              "    .colab-df-container {\n",
              "      display:flex;\n",
              "      flex-wrap:wrap;\n",
              "      gap: 12px;\n",
              "    }\n",
              "\n",
              "    .colab-df-convert {\n",
              "      background-color: #E8F0FE;\n",
              "      border: none;\n",
              "      border-radius: 50%;\n",
              "      cursor: pointer;\n",
              "      display: none;\n",
              "      fill: #1967D2;\n",
              "      height: 32px;\n",
              "      padding: 0 0 0 0;\n",
              "      width: 32px;\n",
              "    }\n",
              "\n",
              "    .colab-df-convert:hover {\n",
              "      background-color: #E2EBFA;\n",
              "      box-shadow: 0px 1px 2px rgba(60, 64, 67, 0.3), 0px 1px 3px 1px rgba(60, 64, 67, 0.15);\n",
              "      fill: #174EA6;\n",
              "    }\n",
              "\n",
              "    [theme=dark] .colab-df-convert {\n",
              "      background-color: #3B4455;\n",
              "      fill: #D2E3FC;\n",
              "    }\n",
              "\n",
              "    [theme=dark] .colab-df-convert:hover {\n",
              "      background-color: #434B5C;\n",
              "      box-shadow: 0px 1px 3px 1px rgba(0, 0, 0, 0.15);\n",
              "      filter: drop-shadow(0px 1px 2px rgba(0, 0, 0, 0.3));\n",
              "      fill: #FFFFFF;\n",
              "    }\n",
              "  </style>\n",
              "\n",
              "      <script>\n",
              "        const buttonEl =\n",
              "          document.querySelector('#df-aee0ef58-d1ee-4316-a559-f61bd23e17ef button.colab-df-convert');\n",
              "        buttonEl.style.display =\n",
              "          google.colab.kernel.accessAllowed ? 'block' : 'none';\n",
              "\n",
              "        async function convertToInteractive(key) {\n",
              "          const element = document.querySelector('#df-aee0ef58-d1ee-4316-a559-f61bd23e17ef');\n",
              "          const dataTable =\n",
              "            await google.colab.kernel.invokeFunction('convertToInteractive',\n",
              "                                                     [key], {});\n",
              "          if (!dataTable) return;\n",
              "\n",
              "          const docLinkHtml = 'Like what you see? Visit the ' +\n",
              "            '<a target=\"_blank\" href=https://colab.research.google.com/notebooks/data_table.ipynb>data table notebook</a>'\n",
              "            + ' to learn more about interactive tables.';\n",
              "          element.innerHTML = '';\n",
              "          dataTable['output_type'] = 'display_data';\n",
              "          await google.colab.output.renderOutput(dataTable, element);\n",
              "          const docLink = document.createElement('div');\n",
              "          docLink.innerHTML = docLinkHtml;\n",
              "          element.appendChild(docLink);\n",
              "        }\n",
              "      </script>\n",
              "    </div>\n",
              "  </div>\n",
              "  "
            ]
          },
          "metadata": {},
          "execution_count": 13
        }
      ]
    },
    {
      "cell_type": "code",
      "source": [
        "sns.catplot(x=\"Product Category\", y=\"Sales\", data =sales, kind= \"bar\")"
      ],
      "metadata": {
        "colab": {
          "base_uri": "https://localhost:8080/",
          "height": 386
        },
        "id": "KmoiT54mZLB-",
        "outputId": "c615bc37-2332-4479-eae5-de1c9250ef84"
      },
      "execution_count": 14,
      "outputs": [
        {
          "output_type": "execute_result",
          "data": {
            "text/plain": [
              "<seaborn.axisgrid.FacetGrid at 0x7fb4902b4bb0>"
            ]
          },
          "metadata": {},
          "execution_count": 14
        },
        {
          "output_type": "display_data",
          "data": {
            "text/plain": [
              "<Figure size 360x360 with 1 Axes>"
            ],
            "image/png": "[encoded data removed]"
          },
          "metadata": {
            "needs_background": "light"
          }
        }
      ]
    },
    {
      "cell_type": "code",
      "source": [
        "sns.catplot(x=\"Product Category\", y=\"Sales\", col=\"Ship Mode\", data =sales, kind= \"bar\")"
      ],
      "metadata": {
        "colab": {
          "base_uri": "https://localhost:8080/",
          "height": 386
        },
        "id": "U5diL4JLZLEI",
        "outputId": "6014e438-7a12-4af6-c73b-60ff99215fe3"
      },
      "execution_count": 15,
      "outputs": [
        {
          "output_type": "execute_result",
          "data": {
            "text/plain": [
              "<seaborn.axisgrid.FacetGrid at 0x7fb490162eb0>"
            ]
          },
          "metadata": {},
          "execution_count": 15
        },
        {
          "output_type": "display_data",
          "data": {
            "text/plain": [
              "<Figure size 1080x360 with 3 Axes>"
            ],
            "image/png": "[encoded data removed]"
          },
          "metadata": {
            "needs_background": "light"
          }
        }
      ]
    },
    {
      "cell_type": "markdown",
      "source": [
        "#Point Plot"
      ],
      "metadata": {
        "id": "0P3uppgyaA2D"
      }
    },
    {
      "cell_type": "markdown",
      "source": [
        "This highlights the trend over time or across groups. This function allows you to create point plots with confidence intervals, as well as the option to plot the individual observations."
      ],
      "metadata": {
        "id": "-DnWYtBtcjHM"
      }
    },
    {
      "cell_type": "code",
      "source": [
        "sns.catplot(x=\"Product Category\", y=\"Sales\", data =sales, kind= \"point\")"
      ],
      "metadata": {
        "colab": {
          "base_uri": "https://localhost:8080/",
          "height": 386
        },
        "id": "bIlTRvXYZLHm",
        "outputId": "c58b4cb8-bc9c-4f9b-f8f9-3ca2af9236b6"
      },
      "execution_count": 16,
      "outputs": [
        {
          "output_type": "execute_result",
          "data": {
            "text/plain": [
              "<seaborn.axisgrid.FacetGrid at 0x7fb4980beac0>"
            ]
          },
          "metadata": {},
          "execution_count": 16
        },
        {
          "output_type": "display_data",
          "data": {
            "text/plain": [
              "<Figure size 360x360 with 1 Axes>"
            ],
            "image/png": "[encoded data removed]"
          },
          "metadata": {
            "needs_background": "light"
          }
        }
      ]
    },
    {
      "cell_type": "code",
      "source": [
        "sns.catplot(x=\"Product Category\", y=\"Sales\", hue=\"Ship Mode\", data =sales, kind= \"point\")"
      ],
      "metadata": {
        "colab": {
          "base_uri": "https://localhost:8080/",
          "height": 386
        },
        "id": "_ZD9hXRDaasC",
        "outputId": "9c56645c-70e3-4ba6-98eb-30cc1fb23115"
      },
      "execution_count": 18,
      "outputs": [
        {
          "output_type": "execute_result",
          "data": {
            "text/plain": [
              "<seaborn.axisgrid.FacetGrid at 0x7fb490161df0>"
            ]
          },
          "metadata": {},
          "execution_count": 18
        },
        {
          "output_type": "display_data",
          "data": {
            "text/plain": [
              "<Figure size 467x360 with 1 Axes>"
            ],
            "image/png": "[encoded data removed]"
          },
          "metadata": {
            "needs_background": "light"
          }
        }
      ]
    },
    {
      "cell_type": "markdown",
      "source": [
        "Here the amount of variation in the data affecting the width of the confidence interval. Technology Product Category has wider confidence interval which indicates, there is more uncertainty in the estimate."
      ],
      "metadata": {
        "id": "07ChJ7HMd7l0"
      }
    }
  ]
}