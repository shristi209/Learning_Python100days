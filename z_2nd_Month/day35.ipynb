{
 "cells": [
  {
   "attachments": {},
   "cell_type": "markdown",
   "metadata": {},
   "source": [
    "# List"
   ]
  },
  {
   "attachments": {},
   "cell_type": "markdown",
   "metadata": {},
   "source": [
    "*   Sequential data type\n",
    "*   Mutable(updation, deletion, insertion)\n",
    "*   elements in list are contiguous(They donot use the memory gaps efficiently) "
   ]
  },
  {
   "attachments": {},
   "cell_type": "markdown",
   "metadata": {},
   "source": [
    "# Linked List"
   ]
  },
  {
   "attachments": {},
   "cell_type": "markdown",
   "metadata": {},
   "source": [
    "*   abstract data types which is randomly stored inside-> not contugious.\n",
    "*   Types: \n",
    "    *   Singly Linked list-> can be traversed in only forward direction starting form the first data element.\n",
    "    *   Doubly Linked List->can be traversed in both forward and backward direction starting form the first data element.\n",
    "    *   Circular Singly Linked list->First and last node are connected and can traverse forward direction\n",
    "    *   Circular Doubly Linked List->can be traversed Both direction, first and last node are connected in a circular way\n",
    "*  Operations:\n",
    "    *   Traverse\n",
    "    *   Insert\n",
    "    *   Delete"
   ]
  }
 ],
 "metadata": {
  "language_info": {
   "name": "python"
  },
  "orig_nbformat": 4
 },
 "nbformat": 4,
 "nbformat_minor": 2
}
