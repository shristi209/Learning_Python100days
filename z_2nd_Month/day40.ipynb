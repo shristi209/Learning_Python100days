{
 "cells": [
  {
   "attachments": {},
   "cell_type": "markdown",
   "metadata": {},
   "source": [
    "# Quick Sort"
   ]
  },
  {
   "attachments": {},
   "cell_type": "markdown",
   "metadata": {},
   "source": [
    "1. Define the `quick_sort` function that takes an input array `arr` as a parameter.\n",
    "2. Check if the length of `arr` is less than or equal to 1. If true, return `arr` as it is already sorted.\n",
    "3. If the length of `arr` is greater than 1, do the following:\n",
    "   a. Select a pivot element from `arr`. In this implementation, the pivot is chosen as the element at index `len(arr) // 2`.\n",
    "   b. Create three empty arrays: `left`, `middle`, and `right`.\n",
    "   c. Iterate through each element `x` in `arr`:\n",
    "      - If `x` is less than the pivot, append it to the `left` array.\n",
    "      - If `x` is equal to the pivot, append it to the `middle` array.\n",
    "      - If `x` is greater than the pivot, append it to the `right` array.\n",
    "   d. Recursively call `quick_sort` on the `left` array, and assign the sorted result to `sorted_left`.\n",
    "   e. Recursively call `quick_sort` on the `right` array, and assign the sorted result to `sorted_right`.\n",
    "   f. Concatenate `sorted_left`, `middle`, and `sorted_right` arrays: `sorted_left + middle + sorted_right`.\n",
    "   g. Return the concatenated array as the sorted result.\n",
    "4. The array `arr` is now sorted in ascending order."
   ]
  },
  {
   "cell_type": "code",
   "execution_count": 1,
   "metadata": {},
   "outputs": [],
   "source": [
    "def quick_sort(arr):\n",
    "    if len(arr) <= 1:\n",
    "        return arr\n",
    "    pivot = arr[len(arr) // 2]\n",
    "    left = [x for x in arr if x < pivot]\n",
    "    middle = [x for x in arr if x == pivot]\n",
    "    right = [x for x in arr if x > pivot]\n",
    "    return quick_sort(left) + middle + quick_sort(right)"
   ]
  }
 ],
 "metadata": {
  "kernelspec": {
   "display_name": "Python 3",
   "language": "python",
   "name": "python3"
  },
  "language_info": {
   "codemirror_mode": {
    "name": "ipython",
    "version": 3
   },
   "file_extension": ".py",
   "mimetype": "text/x-python",
   "name": "python",
   "nbconvert_exporter": "python",
   "pygments_lexer": "ipython3",
   "version": "3.11.3"
  },
  "orig_nbformat": 4
 },
 "nbformat": 4,
 "nbformat_minor": 2
}
