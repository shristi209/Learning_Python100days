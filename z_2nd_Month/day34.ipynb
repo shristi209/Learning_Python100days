{
 "cells": [
  {
   "attachments": {},
   "cell_type": "markdown",
   "metadata": {},
   "source": [
    "# Stack"
   ]
  },
  {
   "attachments": {},
   "cell_type": "markdown",
   "metadata": {},
   "source": [
    "*   Follows LIFO(Last In First Out)\n",
    "**Operations in Stack**\n",
    "*   Push-> Add element\n",
    "*   Pop-> Remove Elements\n",
    "*   isEmpty-> check if the stack is empty or not\n",
    "*   isFull-> chevck if the stack is full\n",
    "*   peek-> get the value of the top without removing it\n"
   ]
  },
  {
   "attachments": {},
   "cell_type": "markdown",
   "metadata": {},
   "source": [
    "**Working of Stack Data Structure**\n",
    "*   A pointer called Top\n",
    "*   intialize the stack set -1(Top=-1 -> empty stack)\n",
    "*   After pushing increase Top++\n",
    "*   While pushing decrease Top--\n",
    "*   Before pushing check the stack is full or not.(isFull)\n",
    "*   Before poping check the stack is  empty or not.(isEmpty)"
   ]
  },
  {
   "attachments": {},
   "cell_type": "markdown",
   "metadata": {},
   "source": [
    "**Implementation of stack using Arrays**"
   ]
  },
  {
   "cell_type": "code",
   "execution_count": 34,
   "metadata": {},
   "outputs": [],
   "source": [
    "def createstack():\n",
    "    stack=[]\n",
    "    return stack"
   ]
  },
  {
   "cell_type": "code",
   "execution_count": 35,
   "metadata": {},
   "outputs": [],
   "source": [
    "#chceck whether the stack is empty or not\n",
    "def isEmpty(stack):\n",
    "    return len(stack)==0"
   ]
  },
  {
   "cell_type": "code",
   "execution_count": 36,
   "metadata": {},
   "outputs": [],
   "source": [
    "def push(stack, item):\n",
    "    stack.append(item)\n",
    "    print(\"Pushed item-\"+item)"
   ]
  },
  {
   "cell_type": "code",
   "execution_count": 37,
   "metadata": {},
   "outputs": [],
   "source": [
    "def pop(stack):\n",
    "    if(isEmpty(stack)):\n",
    "        return \"Stack is already empty\"\n",
    "    else:\n",
    "        return stack.pop()"
   ]
  },
  {
   "cell_type": "code",
   "execution_count": 38,
   "metadata": {},
   "outputs": [
    {
     "name": "stdout",
     "output_type": "stream",
     "text": [
      "Pushed item-1\n",
      "Pushed item-3\n",
      "Pushed item-5\n",
      "Pushed item-6\n",
      "Pushed item-7\n",
      "Pushed item-90\n"
     ]
    }
   ],
   "source": [
    "stack=createstack()\n",
    "push(stack,str(1))\n",
    "push(stack,str(3))\n",
    "push(stack,str(5))\n",
    "push(stack,str(6))\n",
    "push(stack,str(7))\n",
    "push(stack,str(90))"
   ]
  },
  {
   "cell_type": "code",
   "execution_count": 39,
   "metadata": {},
   "outputs": [
    {
     "name": "stdout",
     "output_type": "stream",
     "text": [
      "Popped item:90\n",
      "Stack after popping item['1', '3', '5', '6', '7']\n"
     ]
    }
   ],
   "source": [
    "print(\"Popped item:\"+ pop(stack))\n",
    "print(\"Stack after popping item\"+ str(stack))"
   ]
  }
 ],
 "metadata": {
  "kernelspec": {
   "display_name": "Python 3",
   "language": "python",
   "name": "python3"
  },
  "language_info": {
   "codemirror_mode": {
    "name": "ipython",
    "version": 3
   },
   "file_extension": ".py",
   "mimetype": "text/x-python",
   "name": "python",
   "nbconvert_exporter": "python",
   "pygments_lexer": "ipython3",
   "version": "3.11.3"
  },
  "orig_nbformat": 4
 },
 "nbformat": 4,
 "nbformat_minor": 2
}
