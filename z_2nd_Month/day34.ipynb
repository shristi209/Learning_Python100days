{
 "cells": [
  {
   "attachments": {},
   "cell_type": "markdown",
   "metadata": {},
   "source": [
    "# Stack"
   ]
  },
  {
   "attachments": {},
   "cell_type": "markdown",
   "metadata": {},
   "source": [
    "*   Follows LIFO(Last In First Out)\n",
    "**Operations in Stack**\n",
    "*   Push-> Add element\n",
    "*   Pop-> Remove Elements\n",
    "*   isEmpty-> check if the stack is empty or not\n",
    "*   isFull-> chevck if the stack is full\n",
    "*   peek-> get the value of the top without removing it\n"
   ]
  },
  {
   "attachments": {},
   "cell_type": "markdown",
   "metadata": {},
   "source": [
    "**Working of Stack Data Structure**\n",
    "*   A pointer called Top\n",
    "*   intialize the stack set -1(Top=-1 -> empty stack)\n",
    "*   After pushing increase Top++\n",
    "*   While pushing decrease Top--\n",
    "*   Before pushing check the stack is full or not.(isFull)\n",
    "*   Before poping check the stack is  empty or not.(isEmpty)"
   ]
  },
  {
   "attachments": {},
   "cell_type": "markdown",
   "metadata": {},
   "source": [
    "**Implementation of stack using Arrays**"
   ]
  },
  {
   "cell_type": "code",
   "execution_count": 46,
   "metadata": {},
   "outputs": [],
   "source": [
    "def createstack():\n",
    "    stack=[]\n",
    "    return stack"
   ]
  },
  {
   "cell_type": "code",
   "execution_count": 47,
   "metadata": {},
   "outputs": [],
   "source": [
    "#chceck whether the stack is empty or not\n",
    "def isEmpty(stack):\n",
    "    return len(stack)==0"
   ]
  },
  {
   "cell_type": "code",
   "execution_count": 48,
   "metadata": {},
   "outputs": [],
   "source": [
    "def push(stack, item):\n",
    "    stack.append(item)\n",
    "    print(\"Pushed item-\"+item)"
   ]
  },
  {
   "cell_type": "code",
   "execution_count": 49,
   "metadata": {},
   "outputs": [],
   "source": [
    "def pop(stack):\n",
    "    if(isEmpty(stack)):\n",
    "        return \"Stack is already empty\"\n",
    "    else:\n",
    "        return stack.pop()"
   ]
  },
  {
   "cell_type": "code",
   "execution_count": 50,
   "metadata": {},
   "outputs": [
    {
     "ename": "TypeError",
     "evalue": "'str' object is not callable",
     "output_type": "error",
     "traceback": [
      "\u001b[1;31m---------------------------------------------------------------------------\u001b[0m",
      "\u001b[1;31mTypeError\u001b[0m                                 Traceback (most recent call last)",
      "Cell \u001b[1;32mIn[50], line 2\u001b[0m\n\u001b[0;32m      1\u001b[0m stack\u001b[39m=\u001b[39mcreatestack()\n\u001b[1;32m----> 2\u001b[0m push(stack,\u001b[39mstr\u001b[39;49m(\u001b[39m1\u001b[39;49m))\n\u001b[0;32m      3\u001b[0m push(stack,\u001b[39mstr\u001b[39m(\u001b[39m3\u001b[39m))\n\u001b[0;32m      4\u001b[0m push(stack,\u001b[39mstr\u001b[39m(\u001b[39m5\u001b[39m))\n",
      "\u001b[1;31mTypeError\u001b[0m: 'str' object is not callable"
     ]
    }
   ],
   "source": [
    "stack=createstack()\n",
    "push(stack,str(1))\n",
    "push(stack,str(3))\n",
    "push(stack,str(5))\n",
    "push(stack,str(6))\n",
    "push(stack,str(7))\n",
    "push(stack,str(90))"
   ]
  },
  {
   "cell_type": "code",
   "execution_count": null,
   "metadata": {},
   "outputs": [
    {
     "name": "stdout",
     "output_type": "stream",
     "text": [
      "Popped item:90\n",
      "Stack after popping item['1', '3', '5', '6', '7']\n"
     ]
    }
   ],
   "source": [
    "print(\"Popped item:\"+ pop(stack))\n",
    "print(\"Stack after popping item\"+ str(stack))"
   ]
  },
  {
   "attachments": {},
   "cell_type": "markdown",
   "metadata": {},
   "source": [
    "**Reverse String Using Stack**"
   ]
  },
  {
   "cell_type": "code",
   "execution_count": 51,
   "metadata": {},
   "outputs": [
    {
     "name": "stdout",
     "output_type": "stream",
     "text": [
      "Pushed item-H\n",
      "Pushed item-e\n",
      "Pushed item-l\n",
      "Pushed item-l\n",
      "Pushed item-o\n",
      "Pushed item- \n",
      "Pushed item-W\n",
      "Pushed item-o\n",
      "Pushed item-r\n",
      "Pushed item-l\n",
      "Pushed item-d\n",
      "Reverse string is dlroW olleH\n"
     ]
    }
   ],
   "source": [
    "def reverse(str):\n",
    "    n=len(str)\n",
    "    stack=[]\n",
    "    for i in range(n):\n",
    "        push(stack,str[i])\n",
    "    str=\"\"\n",
    "    for i in range(n):\n",
    "        str+=pop(stack)\n",
    "    return str\n",
    "str=\"Hello World\"\n",
    "print(\"Reverse string is\",reverse(str))"
   ]
  },
  {
   "cell_type": "code",
   "execution_count": null,
   "metadata": {},
   "outputs": [],
   "source": []
  }
 ],
 "metadata": {
  "kernelspec": {
   "display_name": "Python 3",
   "language": "python",
   "name": "python3"
  },
  "language_info": {
   "codemirror_mode": {
    "name": "ipython",
    "version": 3
   },
   "file_extension": ".py",
   "mimetype": "text/x-python",
   "name": "python",
   "nbconvert_exporter": "python",
   "pygments_lexer": "ipython3",
   "version": "3.11.3"
  },
  "orig_nbformat": 4
 },
 "nbformat": 4,
 "nbformat_minor": 2
}
