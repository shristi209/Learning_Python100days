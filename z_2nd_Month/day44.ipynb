{
 "cells": [
  {
   "attachments": {},
   "cell_type": "markdown",
   "metadata": {},
   "source": [
    "# Graph Traversal"
   ]
  },
  {
   "attachments": {},
   "cell_type": "markdown",
   "metadata": {},
   "source": [
    "*   Graph traversal refers to the process of visiting all the vertices (nodes) in a graph in a specific order\n",
    "*   There are two commonly used methods for graph traversal:\n",
    "    *   Depth-First Traversal (DFS)\n",
    "    *   Breadth-First Traversal (BFS)"
   ]
  },
  {
   "attachments": {},
   "cell_type": "markdown",
   "metadata": {},
   "source": [
    "*    Below shows thw Graph traversal using BFS"
   ]
  },
  {
   "attachments": {},
   "cell_type": "markdown",
   "metadata": {},
   "source": [
    "*   Steps of BFS traversal:\n",
    "\n",
    "    *   Initialize an empty set called visited to keep track of visited nodes.\n",
    "    *   Create a deque called queue and enqueue the starting node.\n",
    "    *   Enter a while loop that continues until the queue becomes empty.\n",
    "    *   Inside the loop, dequeue a node from the front of the queue.\n",
    "    *   If the dequeued node has not been visited:\n",
    "        *   Process the node (in this example, we print it).\n",
    "        *   Mark the node as visited by adding it to the visited set.\n",
    "        *   Enqueue all adjacent nodes of the dequeued node that have not been visited.\n",
    "    *   Repeat steps 4-5 until the queue becomes empty."
   ]
  },
  {
   "cell_type": "code",
   "execution_count": 1,
   "metadata": {},
   "outputs": [
    {
     "name": "stdout",
     "output_type": "stream",
     "text": [
      "All paths from A to H : [['A', 'C', 'F', 'H'], ['A', 'B', 'E', 'G', 'H'], ['A', 'B', 'D', 'E', 'G', 'H']]\n",
      "Shortest path from A to H : ['A', 'C', 'F', 'H']\n"
     ]
    }
   ],
   "source": [
    "from collections import deque\n",
    "\n",
    "class Graph:\n",
    "    def __init__(self, edges):\n",
    "        self.graph_dict = {}\n",
    "        for start, end in edges:\n",
    "            if start in self.graph_dict:\n",
    "                self.graph_dict[start].append(end)\n",
    "            else:\n",
    "                self.graph_dict[start] = [end]\n",
    "\n",
    "    def get_paths(self, start, end):\n",
    "        queue = deque([(start, [start])])  # Initialize the queue with the starting node and its path\n",
    "        paths = []\n",
    "\n",
    "        while queue:\n",
    "            node, path = queue.popleft()  # Get the next node and its path from the queue\n",
    "\n",
    "            if node == end:\n",
    "                paths.append(path)  # Found a path from start to end\n",
    "\n",
    "            for adjacent_node in self.graph_dict.get(node, []):\n",
    "                if adjacent_node not in path:\n",
    "                    queue.append((adjacent_node, path + [adjacent_node]))  # Enqueue adjacent nodes with the updated path\n",
    "\n",
    "        return paths\n",
    "\n",
    "    def get_shortest_path(self, start, end):\n",
    "        queue = deque([(start, [start])])  # Initialize the queue with the starting node and its path\n",
    "\n",
    "        while queue:\n",
    "            node, path = queue.popleft()  # Get the next node and its path from the queue\n",
    "\n",
    "            if node == end:\n",
    "                return path  # Found the shortest path from start to end\n",
    "\n",
    "            for adjacent_node in self.graph_dict.get(node, []):\n",
    "                if adjacent_node not in path:\n",
    "                    queue.append((adjacent_node, path + [adjacent_node]))  # Enqueue adjacent nodes with the updated path\n",
    "\n",
    "        return None  # No path found from start to end\n",
    "\n",
    "# Example usage:\n",
    "routes = [\n",
    "    (\"A\", \"B\"),\n",
    "    (\"A\", \"C\"),\n",
    "    (\"B\", \"D\"),\n",
    "    (\"B\", \"E\"),\n",
    "    (\"C\", \"F\"),\n",
    "    (\"E\", \"G\"),\n",
    "    (\"F\", \"H\"),\n",
    "    (\"G\", \"H\"),\n",
    "    (\"D\", \"E\")\n",
    "]\n",
    "\n",
    "graph = Graph(routes)\n",
    "\n",
    "start = \"A\"\n",
    "end = \"H\"\n",
    "\n",
    "all_paths = graph.get_paths(start, end)\n",
    "shortest_path = graph.get_shortest_path(start, end)\n",
    "\n",
    "print(\"All paths from\", start, \"to\", end, \":\", all_paths)\n",
    "print(\"Shortest path from\", start, \"to\", end, \":\", shortest_path)"
   ]
  }
 ],
 "metadata": {
  "kernelspec": {
   "display_name": "Python 3",
   "language": "python",
   "name": "python3"
  },
  "language_info": {
   "codemirror_mode": {
    "name": "ipython",
    "version": 3
   },
   "file_extension": ".py",
   "mimetype": "text/x-python",
   "name": "python",
   "nbconvert_exporter": "python",
   "pygments_lexer": "ipython3",
   "version": "3.11.3"
  },
  "orig_nbformat": 4
 },
 "nbformat": 4,
 "nbformat_minor": 2
}
