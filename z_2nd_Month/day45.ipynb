{
 "cells": [
  {
   "attachments": {},
   "cell_type": "markdown",
   "metadata": {},
   "source": [
    "# Dijkstra's algorithm"
   ]
  },
  {
   "attachments": {},
   "cell_type": "markdown",
   "metadata": {},
   "source": [
    "*   Steps Involved\n",
    "        Initialize the graph:\n",
    "        Create a set to track visited nodes.\n",
    "                Create a priority queue (min-heap) to store nodes based on their tentative distances.\n",
    "                Assign the source node a tentative distance of 0 and all other nodes a tentative distance of infinity.\n",
    "\n",
    "        Visit the nodes:\n",
    "        While the priority queue is not empty:\n",
    "                Extract the node with the smallest tentative distance from the priority queue.\n",
    "                Mark the node as visited.\n",
    "\n",
    "        Update distances:\n",
    "        For each neighboring node of the current node:\n",
    "                Calculate the tentative distance from the source node to the neighbor.\n",
    "                If the tentative distance is smaller than the current distance recorded for the neighbor, update the neighbor's distance.\n",
    "                Repeat steps 2 and 3 until all nodes have been visited or the destination node is reached.\n",
    "\n",
    "        The shortest path:\n",
    "                Once the algorithm is complete, the shortest path from the source node to each node in the graph can be determined based on the recorded distances."
   ]
  },
  {
   "cell_type": "code",
   "execution_count": 1,
   "metadata": {},
   "outputs": [
    {
     "name": "stdout",
     "output_type": "stream",
     "text": [
      "Shortest distances from node A:\n",
      "A: 0\n",
      "B: 4\n",
      "C: 3\n",
      "D: 5\n"
     ]
    }
   ],
   "source": [
    "import heapq\n",
    "\n",
    "\n",
    "def dijkstra(graph, start):\n",
    "    # Create a dictionary to store the shortest distances from the start node to all other nodes\n",
    "    distances = {node: float('inf') for node in graph}\n",
    "    distances[start] = 0\n",
    "    \n",
    "    # Create a priority queue to keep track of nodes with their current shortest distance\n",
    "    pq = [(0, start)]\n",
    "    \n",
    "    while pq:\n",
    "        current_distance, current_node = heapq.heappop(pq)\n",
    "        \n",
    "        # Ignore if we have already found a shorter path to the current node\n",
    "        if current_distance > distances[current_node]:\n",
    "            continue\n",
    "        \n",
    "        # Traverse neighbors of the current node\n",
    "        for neighbor, weight in graph[current_node].items():\n",
    "            distance = current_distance + weight\n",
    "            \n",
    "            # Update the shortest distance if a shorter path is found\n",
    "            if distance < distances[neighbor]:\n",
    "                distances[neighbor] = distance\n",
    "                heapq.heappush(pq, (distance, neighbor))\n",
    "    \n",
    "    return distances\n",
    "\n",
    "\n",
    "# Example usage:\n",
    "\n",
    "# Define the graph as an adjacency dictionary\n",
    "graph = {\n",
    "    'A': {'B': 5, 'C': 3},\n",
    "    'B': {'A': 5, 'C': 1, 'D': 4},\n",
    "    'C': {'A': 3, 'B': 1, 'D': 2},\n",
    "    'D': {'B': 4, 'C': 2}\n",
    "}\n",
    "\n",
    "start_node = 'A'\n",
    "distances = dijkstra(graph, start_node)\n",
    "\n",
    "print(\"Shortest distances from node\", start_node + \":\")\n",
    "for node, distance in distances.items():\n",
    "    print(node + \":\", distance)"
   ]
  }
 ],
 "metadata": {
  "kernelspec": {
   "display_name": "Python 3",
   "language": "python",
   "name": "python3"
  },
  "language_info": {
   "codemirror_mode": {
    "name": "ipython",
    "version": 3
   },
   "file_extension": ".py",
   "mimetype": "text/x-python",
   "name": "python",
   "nbconvert_exporter": "python",
   "pygments_lexer": "ipython3",
   "version": "3.11.3"
  },
  "orig_nbformat": 4
 },
 "nbformat": 4,
 "nbformat_minor": 2
}
