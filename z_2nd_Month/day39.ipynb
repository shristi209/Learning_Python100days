{
 "cells": [
  {
   "attachments": {},
   "cell_type": "markdown",
   "metadata": {},
   "source": [
    "# Merge Sort"
   ]
  },
  {
   "attachments": {},
   "cell_type": "markdown",
   "metadata": {},
   "source": [
    "**Algorithm**\n",
    "\n",
    "1. Define the `merge_sort` function that takes an input array `arr` as a parameter.\n",
    "2. If the length of `arr` is greater than 1, do the following:\n",
    "   a. Calculate the midpoint of the array using integer division: `mid = len(arr) // 2`.\n",
    "   b. Split the array into two halves: `left = arr[:mid]` and `right = arr[mid:]`.\n",
    "   c. Recursively call `merge_sort` on the `left` and `right` halves.\n",
    "   d. Initialize three pointers `i`, `j`, and `k` to 0, representing indices for `left`, `right`, and the merged array `arr`, respectively.\n",
    "   e. Compare the elements at `left[i]` and `right[j]` and place the smaller element in `arr[k]`.\n",
    "      - If `left[i]` is smaller, assign `left[i]` to `arr[k]`, increment `i` by 1, and increment `k` by 1.\n",
    "      - Otherwise, assign `right[j]` to `arr[k]`, increment `j` by 1, and increment `k` by 1.\n",
    "      - Repeat this step until either `i` reaches the end of `left` or `j` reaches the end of `right`.\n",
    "   f. Copy any remaining elements from `left` or `right` to `arr` if there are any.\n",
    "      - If there are remaining elements in `left`, assign them to `arr[k]` and increment both `i` and `k` by 1.\n",
    "      - If there are remaining elements in `right`, assign them to `arr[k]` and increment both `j` and `k` by 1.\n",
    "3. The array `arr` is now sorted in ascending order.\n"
   ]
  },
  {
   "cell_type": "code",
   "execution_count": null,
   "metadata": {},
   "outputs": [],
   "source": [
    "def merge_sort(arr):\n",
    "    if len(arr) > 1:\n",
    "        mid = len(arr) // 2\n",
    "        left = arr[:mid]\n",
    "        right = arr[mid:]\n",
    "\n",
    "        merge_sort(left)\n",
    "        merge_sort(right)\n",
    "\n",
    "        i = j = k = 0\n",
    "        while i < len(left) and j < len(right):\n",
    "            if left[i] < right[j]:\n",
    "                arr[k] = left[i]\n",
    "                i += 1\n",
    "            else:\n",
    "                arr[k] = right[j]\n",
    "                j += 1\n",
    "            k += 1\n",
    "\n",
    "        while i < len(left):\n",
    "            arr[k] = left[i]\n",
    "            i += 1\n",
    "            k += 1\n",
    "\n",
    "        while j < len(right):\n",
    "            arr[k] = right[j]\n",
    "            j += 1\n",
    "            k += 1\n"
   ]
  },
  {
   "attachments": {},
   "cell_type": "markdown",
   "metadata": {},
   "source": [
    "# Quick Sort"
   ]
  },
  {
   "attachments": {},
   "cell_type": "markdown",
   "metadata": {},
   "source": [
    "**Algorithm**\n",
    "1. Define the `quick_sort` function that takes an input array `arr` as a parameter.\n",
    "2. Check if the length of `arr` is less than or equal to 1. If true, return `arr` as it is already sorted.\n",
    "3. If the length of `arr` is greater than 1, do the following:\n",
    "   a. Select a pivot element from `arr`. In this implementation, the pivot is chosen as the element at index `len(arr) // 2`.\n",
    "   b. Create three empty arrays: `left`, `middle`, and `right`.\n",
    "   c. Iterate through each element `x` in `arr`:\n",
    "      - If `x` is less than the pivot, append it to the `left` array.\n",
    "      - If `x` is equal to the pivot, append it to the `middle` array.\n",
    "      - If `x` is greater than the pivot, append it to the `right` array.\n",
    "   d. Recursively call `quick_sort` on the `left` and `right` arrays.\n",
    "   e. Concatenate the sorted `left`, `middle`, and `right` arrays: `quick_sort(left) + middle + quick_sort(right)`.\n",
    "   f. Return the concatenated array as the sorted result.\n",
    "4. The array `arr` is now sorted in ascending order.\n"
   ]
  },
  {
   "cell_type": "code",
   "execution_count": null,
   "metadata": {},
   "outputs": [],
   "source": [
    "def quick_sort(arr):\n",
    "    if len(arr) <= 1:\n",
    "        return arr\n",
    "    pivot = arr[len(arr) // 2]\n",
    "    left = [x for x in arr if x < pivot]\n",
    "    middle = [x for x in arr if x == pivot]\n",
    "    right = [x for x in arr if x > pivot]\n",
    "    return quick_sort(left) + middle + quick_sort(right)"
   ]
  }
 ],
 "metadata": {
  "language_info": {
   "name": "python"
  },
  "orig_nbformat": 4
 },
 "nbformat": 4,
 "nbformat_minor": 2
}
