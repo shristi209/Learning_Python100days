{
 "cells": [
  {
   "attachments": {},
   "cell_type": "markdown",
   "metadata": {},
   "source": [
    "# Queue"
   ]
  },
  {
   "attachments": {},
   "cell_type": "markdown",
   "metadata": {},
   "source": [
    "*   __init__(): Initializes an empty list to hold the items in the queue.\n",
    "*   is_empty(): Returns True if the queue is empty, False otherwise.\n",
    "*   enqueue(item): Adds an item to the back of the queue.\n",
    "*   dequeue(): Removes and returns the item at the front of the queue. Raises an IndexError if the queue is empty.\n",
    "*   peek(): Returns the item at the front of the queue without removing it. Raises an IndexError if the queue is empty.\n",
    "*   size(): Returns the number of items in the queue."
   ]
  }
 ],
 "metadata": {
  "language_info": {
   "name": "python"
  },
  "orig_nbformat": 4
 },
 "nbformat": 4,
 "nbformat_minor": 2
}
