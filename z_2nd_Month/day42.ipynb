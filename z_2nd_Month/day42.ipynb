{
 "cells": [
  {
   "attachments": {},
   "cell_type": "markdown",
   "metadata": {},
   "source": [
    "# Binary Search Tree"
   ]
  },
  {
   "attachments": {},
   "cell_type": "markdown",
   "metadata": {},
   "source": [
    "*   binary tree data structure where each node has a key\n",
    "    *   The left subtree of a node contains only nodes with keys less than the node's key.\n",
    "    *   The right subtree of a node contains only nodes with keys greater than the node's key.\n",
    "    *   Both the left and right subtrees must also be binary search trees"
   ]
  },
  {
   "attachments": {},
   "cell_type": "markdown",
   "metadata": {},
   "source": [
    "*   For Traversal of tree BST follows:\n",
    "    *   BFS(Breadth-First Search)\n",
    "    *   DFS (Depth-First Search)    \n",
    "*   Below shows DFS and it has:\n",
    "    *   In-Order Traversal\n",
    "        *   Starting from the root node, recursively visit the left subtree, then visit the current node, and finally visit the right subtree.\n",
    "    *   Pre-Order Traversal\n",
    "        *   Starting from the root node, visit the current node first, then recursively visit the left subtree, and finally visit the right subtree.\n",
    "    *   Post-Order Traversal\n",
    "        *   Starting from the root node, recursively visit the left subtree, then visit the right subtree, and finally visit the current node.\n",
    "*   Also, i have calculated Maximum, Minimum and total sum of datas."
   ]
  },
  {
   "cell_type": "code",
   "execution_count": 1,
   "metadata": {},
   "outputs": [
    {
     "name": "stdout",
     "output_type": "stream",
     "text": [
      "Pre-order Traversal: [40, 28, 15, 25, 35, 30, 60, 45, 55, 50, 70]\n",
      "In-order Traversal: [15, 25, 28, 30, 35, 40, 45, 50, 55, 60, 70]\n",
      "Post-order Traversal: [25, 15, 30, 35, 28, 50, 55, 45, 70, 60, 40]\n",
      "Minimum value: 15\n",
      "Maximum value: 70\n",
      "Sum of all elements: 453\n"
     ]
    }
   ],
   "source": [
    "class BSTreenode:\n",
    "    def __init__(self, data):\n",
    "        self.data = data\n",
    "        self.left = None\n",
    "        self.right = None\n",
    "\n",
    "    def add_child(self, data):\n",
    "        # Inserting in the left subtree\n",
    "        if data == self.data:\n",
    "            return  # Value already exists in the tree, so return without making any changes.\n",
    "        #inserting in the left sub tree, the value which is smaller than root node\n",
    "        if data < self.data:\n",
    "            if self.left:\n",
    "                self.left.add_child(data)  # Left child node already exists, so recursively call add_child on the left child node.\n",
    "            else:\n",
    "                self.left = BSTreenode(data)  # No left child node, so create a new node with the provided data value.\n",
    "        else:\n",
    "        # Inserting in the right subtree\n",
    "            if self.right:\n",
    "                self.right.add_child(data)  # Data value already exists in the right subtree, so recursively call add_child on the right child node.\n",
    "            else:\n",
    "                self.right = BSTreenode(data)  # No right child node, so create a new node with the provided data value.\n",
    "                #for searching\n",
    "    def search(self, val):\n",
    "                return False\n",
    "\n",
    "    def pre_order_traversal(self):\n",
    "        elements = []\n",
    "        elements.append(self.data)\n",
    "        if self.left:\n",
    "            elements += self.left.pre_order_traversal()  # Recursively traverse the left subtree\n",
    "        if self.right:\n",
    "            elements += self.right.pre_order_traversal()  # Recursively traverse the right subtree\n",
    "        return elements\n",
    "\n",
    "    def in_order_traversal(self):\n",
    "        elements = []\n",
    "        if self.left:\n",
    "            elements += self.left.in_order_traversal()  # Recursively traverse the left subtree\n",
    "        elements.append(self.data)\n",
    "        if self.right:\n",
    "            elements += self.right.in_order_traversal()  # Recursively traverse the right subtree\n",
    "        return elements\n",
    "\n",
    "    def post_order_traversal(self):\n",
    "        elements = []\n",
    "        if self.left:\n",
    "            elements += self.left.post_order_traversal()  # Recursively traverse the left subtree\n",
    "        if self.right:\n",
    "            elements += self.right.post_order_traversal()  # Recursively traverse the right subtree\n",
    "        elements.append(self.data)\n",
    "        return elements\n",
    "\n",
    "    def find_min(self):\n",
    "        if self.left is None:\n",
    "            return self.data\n",
    "        return self.left.find_min()  # Recursively find the minimum value in the left subtree\n",
    "\n",
    "    def find_max(self):\n",
    "        if self.right is None:\n",
    "            return self.data\n",
    "        return self.right.find_max()  # Recursively find the maximum value in the right subtree\n",
    "\n",
    "    def calculate_sum(self):\n",
    "        left_sum = self.left.calculate_sum() if self.left else 0  # Calculate sum of values in the left subtree\n",
    "        right_sum = self.right.calculate_sum() if self.right else 0  # Calculate sum of values in the right subtree\n",
    "        return self.data + left_sum + right_sum  # Sum the values of the current node, left subtree, and right subtree\n",
    "\n",
    "\n",
    "def tree(elements):\n",
    "    root = BSTreenode(elements[0])  # Create the root node with the first element in the list\n",
    "\n",
    "    for i in range(1, len(elements)):\n",
    "        root.add_child(elements[i])  # Add each element to the BST starting from the root\n",
    "    return root  # Return the root of the BST\n",
    "\n",
    "\n",
    "if __name__ == '__main__':\n",
    "    numbers = [40, 28, 15, 35, 60, 45, 70, 55, 50, 30, 25]\n",
    "    numbers_tree = tree(numbers)  # Build a BST using the numbers list\n",
    "    print('Pre-order Traversal:', numbers_tree.pre_order_traversal())  # Print the pre-order traversal of the BST\n",
    "    print('In-order Traversal:', numbers_tree.in_order_traversal())  # Print the in-order traversal of the BST\n",
    "    print('Post-order Traversal:', numbers_tree.post_order_traversal())  # Print the post-order traversal of the BST\n",
    "    print('Minimum value:', numbers_tree.find_min())  # Find and print the minimum value in the BST\n",
    "    print('Maximum value:', numbers_tree.find_max())  # Find and print the maximum value in the BST\n",
    "    print('Sum of all elements:', numbers_tree.calculate_sum())  # Calculate and print the sum of all elements in the BST\n"
   ]
  }
 ],
 "metadata": {
  "kernelspec": {
   "display_name": "Python 3",
   "language": "python",
   "name": "python3"
  },
  "language_info": {
   "codemirror_mode": {
    "name": "ipython",
    "version": 3
   },
   "file_extension": ".py",
   "mimetype": "text/x-python",
   "name": "python",
   "nbconvert_exporter": "python",
   "pygments_lexer": "ipython3",
   "version": "3.11.3"
  },
  "orig_nbformat": 4
 },
 "nbformat": 4,
 "nbformat_minor": 2
}
