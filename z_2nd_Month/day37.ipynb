{
 "cells": [
  {
   "attachments": {},
   "cell_type": "markdown",
   "metadata": {},
   "source": [
    "# Sorting"
   ]
  },
  {
   "attachments": {},
   "cell_type": "markdown",
   "metadata": {},
   "source": [
    "**BUBBLE SORT**"
   ]
  },
  {
   "attachments": {},
   "cell_type": "markdown",
   "metadata": {},
   "source": [
    "#Algorithmn of Bubble sort\n",
    "1. Start with an unsorted array of elements.\n",
    "2. Get the length of the array and assign it to a variable 'n'.\n",
    "3. Iterate 'n-1' times using a loop variable 'i' from 0 to 'n-2':\n",
    "   a. Within the outer loop, iterate from 0 to 'n-i-2' using a loop variable 'j':\n",
    "      i. Compare the element at index 'j' with the element at index 'j+1'.\n",
    "      ii. If the element at index 'j' is greater than the element at index 'j+1':\n",
    "          - Swap the elements at index 'j' and 'j+1'.\n",
    "4. After completing the outer loop, the array will be sorted in ascending order."
   ]
  },
  {
   "cell_type": "code",
   "execution_count": 1,
   "metadata": {},
   "outputs": [],
   "source": [
    "def bubble_sort(arr):\n",
    "    n = len(arr)  #It initializes a variable n to store the length of the array using the len() function.\n",
    "    for i in range(n - 1):  #controls the number of passes through the array\n",
    "        for j in range(n - i - 1): # iterates from the beginning of the array up to the unsorted portion.\n",
    "            if arr[j] > arr[j + 1]: # condition checks if the current element is greater than the next element. If true, it means the elements are in the wrong order and need to be swapped.\n",
    "                arr[j], arr[j + 1] = arr[j + 1], arr[j] #Swaps"
   ]
  }
 ],
 "metadata": {
  "kernelspec": {
   "display_name": "Python 3",
   "language": "python",
   "name": "python3"
  },
  "language_info": {
   "codemirror_mode": {
    "name": "ipython",
    "version": 3
   },
   "file_extension": ".py",
   "mimetype": "text/x-python",
   "name": "python",
   "nbconvert_exporter": "python",
   "pygments_lexer": "ipython3",
   "version": "3.11.3"
  },
  "orig_nbformat": 4
 },
 "nbformat": 4,
 "nbformat_minor": 2
}
