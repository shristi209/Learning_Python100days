{
 "cells": [
  {
   "attachments": {},
   "cell_type": "markdown",
   "metadata": {},
   "source": [
    "# Tree"
   ]
  },
  {
   "attachments": {},
   "cell_type": "markdown",
   "metadata": {},
   "source": [
    "*   A tree is a widely used data structure that represents a hierarchical structure(Non-Linear)\n",
    "    *   Root->  Topmost node in the tree\n",
    "    *   Nodes-> Each node in the tree represents an element \n",
    "    *   Edges->  represent the connections between nodes\n",
    "    *   Child Nodes->  immediate descendants of a particular node\n",
    "    *   Leaf Nodes->  Leaf nodes are the nodes that do not have any child nodes\n",
    "    *   Subtree-> smaller tree structure that is part of a larger tree\n",
    "    *   Levels-> horizontal layers or depths of the nodes\n",
    "*   Below Example Shows the General Tree.\n",
    "    *   allows for any number of child nodes for each parent node."
   ]
  },
  {
   "cell_type": "code",
   "execution_count": 25,
   "metadata": {},
   "outputs": [
    {
     "name": "stdout",
     "output_type": "stream",
     "text": [
      "Electronics\n",
      "    |_ Laptop\n",
      "        |_ Lenovo\n",
      "        |_ Mac\n",
      "        |_ Dell\n",
      "    |_ TV\n",
      "        |_ CG\n",
      "        |_ Samsung\n",
      "        |_ MI\n",
      "    |_ CellPhone\n",
      "        |_ iPhone\n",
      "        |_ Vivo\n",
      "        |_ Poco\n"
     ]
    }
   ],
   "source": [
    "class TreeNode:\n",
    "    def __init__(self, data):\n",
    "        self.data = data\n",
    "        self.children = []  # List to store child nodes\n",
    "        self.parent = None  # Parent node reference\n",
    "        \n",
    "    def add_child(self, child):\n",
    "        child.parent = self  # Set the current node as the parent of the child\n",
    "        self.children.append(child)  # Add the child to the list of children\n",
    "        \n",
    "    def get_level(self):\n",
    "        level = 0\n",
    "        p = self.parent\n",
    "        while p:\n",
    "            level += 1  # Increment level count\n",
    "            p = p.parent  # Move to the next parent node\n",
    "        return level\n",
    "    \n",
    "    def print_tree(self):\n",
    "        spaces = \" \" * self.get_level() * 4  # Calculate indentation based on the level\n",
    "        prefix = spaces + \"|_ \" if self.parent else \"\"  # Add prefix for better visualization\n",
    "        print(prefix + self.data)  # Print the current node with proper indentation\n",
    "        \n",
    "        if self.children:\n",
    "            for child in self.children:\n",
    "                child.print_tree()  # Recursively print all child nodes\n",
    "\n",
    "def build_tree():\n",
    "    # Create the root node with data \"Electronics\"\n",
    "    root = TreeNode(\"Electronics\")  \n",
    "    \n",
    "    # Create child nodes for the \"Laptop\" category\n",
    "    laptop = TreeNode(\"Laptop\")  \n",
    "    laptop.add_child(TreeNode(\"Lenovo\"))  # Add a child node with data \"Lenovo\"\n",
    "    laptop.add_child(TreeNode(\"Mac\"))\n",
    "    laptop.add_child(TreeNode(\"Dell\"))\n",
    "    \n",
    "    # Create child nodes for the \"TV\" category\n",
    "    tv = TreeNode(\"TV\")\n",
    "    tv.add_child(TreeNode(\"CG\"))          # Add a child node with data \"CG\"\n",
    "    tv.add_child(TreeNode(\"Samsung\"))\n",
    "    tv.add_child(TreeNode(\"MI\"))\n",
    "    \n",
    "    # Create child nodes for the \"CellPhone\" category\n",
    "    cell_phone = TreeNode(\"CellPhone\")    \n",
    "    cell_phone.add_child(TreeNode(\"iPhone\")) # Add a child node with data \"iPhone\"\n",
    "    cell_phone.add_child(TreeNode(\"Vivo\"))\n",
    "    cell_phone.add_child(TreeNode(\"Poco\"))\n",
    "    \n",
    "    # Add the child nodes to the root node\n",
    "    root.add_child(laptop)  # Add child nodes to the root node\n",
    "    root.add_child(tv)\n",
    "    root.add_child(cell_phone)\n",
    "    \n",
    "    return root  # Return the root node of the tree\n",
    "\n",
    "if __name__ == '__main__':\n",
    "    root = build_tree()  # Build the tree structure\n",
    "    root.print_tree()  # Print the entire tree\n"
   ]
  }
 ],
 "metadata": {
  "kernelspec": {
   "display_name": "Python 3",
   "language": "python",
   "name": "python3"
  },
  "language_info": {
   "codemirror_mode": {
    "name": "ipython",
    "version": 3
   },
   "file_extension": ".py",
   "mimetype": "text/x-python",
   "name": "python",
   "nbconvert_exporter": "python",
   "pygments_lexer": "ipython3",
   "version": "3.11.3"
  },
  "orig_nbformat": 4
 },
 "nbformat": 4,
 "nbformat_minor": 2
}
