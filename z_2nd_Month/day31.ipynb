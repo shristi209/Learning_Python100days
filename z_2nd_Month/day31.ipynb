{
 "cells": [
  {
   "attachments": {},
   "cell_type": "markdown",
   "metadata": {},
   "source": [
    "# Data types"
   ]
  },
  {
   "cell_type": "code",
   "execution_count": null,
   "metadata": {},
   "outputs": [],
   "source": [
    "# Example of integer data type\n",
    "num1 = 10\n",
    "\n",
    "# Example of floating-point data type\n",
    "num2 = 3.14\n",
    "\n",
    "# Example of character data type\n",
    "char1 = 'a'\n",
    "\n",
    "# Example of string data type\n",
    "str1 = \"Hello, World!\"\n",
    "\n",
    "# Example of Boolean data type\n",
    "bool1 = True\n"
   ]
  },
  {
   "attachments": {},
   "cell_type": "markdown",
   "metadata": {},
   "source": [
    "# Data Structures:"
   ]
  },
  {
   "cell_type": "code",
   "execution_count": null,
   "metadata": {},
   "outputs": [],
   "source": [
    "# Example of list data structure\n",
    "my_list = [1, 2, 3, 4, 5]\n",
    "\n",
    "# Example of dictionary data structure\n",
    "my_dict = {'name': 'John', 'age': 25, 'gender': 'male'}\n",
    "\n",
    "# Example of set data structure\n",
    "my_set = {1, 2, 3, 4, 5}\n",
    "\n",
    "# Example of tuple data structure\n",
    "my_tuple = (1, 2, 3, 4, 5)"
   ]
  },
  {
   "attachments": {},
   "cell_type": "markdown",
   "metadata": {},
   "source": [
    "# Abstract Data Types (ADTs):"
   ]
  },
  {
   "cell_type": "code",
   "execution_count": null,
   "metadata": {},
   "outputs": [],
   "source": [
    "class Counter:\n",
    "    def __init__(self):\n",
    "        self.count = 0\n",
    "    \n",
    "    def increment(self):\n",
    "        self.count += 1\n",
    "    \n",
    "    def decrement(self):\n",
    "        if self.count > 0:\n",
    "            self.count -= 1\n",
    "# the idea is that the implementation details are hidden from the user, and the user can interact with the ADT through a well-defined interface of methods."
   ]
  }
 ],
 "metadata": {
  "language_info": {
   "name": "python"
  },
  "orig_nbformat": 4
 },
 "nbformat": 4,
 "nbformat_minor": 2
}
