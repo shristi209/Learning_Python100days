{
 "cells": [
  {
   "attachments": {},
   "cell_type": "markdown",
   "metadata": {},
   "source": [
    "# Selection sort"
   ]
  },
  {
   "attachments": {},
   "cell_type": "markdown",
   "metadata": {},
   "source": [
    "#Algorithm\n",
    "1. Start with an unsorted array of elements.\n",
    "2. Get the length of the array and assign it to a variable 'n'.\n",
    "3. Repeat the following steps 'n-1' times:\n",
    "   a. Initialize a variable 'min_index' to store the index of the minimum element. Set it to the current iteration index.\n",
    "   b. Iterate through the unsorted portion of the array starting from the next index:\n",
    "      i. Compare each element with the element at 'min_index'.\n",
    "      ii. If a smaller element is found, update 'min_index' to the current index.\n",
    "   c. Swap the element at the current iteration index with the element at 'min_index'.\n",
    "4. The array is now sorted in ascending order.\n"
   ]
  },
  {
   "cell_type": "code",
   "execution_count": null,
   "metadata": {},
   "outputs": [],
   "source": [
    "#sorting in ascending order\n",
    "def selection_sort(arr):\n",
    "    n = len(arr)\n",
    "    for i in range(n - 1): #iterates from the first element to the second-to-last element\n",
    "        min_index = i  #representing the index of the minimum element found so far\n",
    "        for j in range(i + 1, n): #iterates from the element next to the current element till the end of the array\n",
    "            if arr[j] < arr[min_index]:\n",
    "                min_index = j\n",
    "        arr[i], arr[min_index] = arr[min_index], arr[i]\n"
   ]
  },
  {
   "attachments": {},
   "cell_type": "markdown",
   "metadata": {},
   "source": [
    "# Insertion Sort"
   ]
  },
  {
   "attachments": {},
   "cell_type": "markdown",
   "metadata": {},
   "source": [
    "#Algorithm\n",
    "1. Start with an unsorted array of elements.\n",
    "2. Get the length of the array and assign it to a variable 'n'.\n",
    "3. Iterate through the array from the second element to the last element using a loop variable 'i':\n",
    "   a. Assign the current element at index 'i' to a variable 'key'.\n",
    "   b. Set a loop variable 'j' to 'i - 1'.\n",
    "   c. While 'j' is greater than or equal to 0 and the element at index 'j' is greater than 'key':\n",
    "      i. Shift the element at index 'j' one position to the right.\n",
    "      ii. Decrement 'j' to compare with previous elements in the sorted portion.\n",
    "   d. Insert the 'key' element at index 'j + 1'.\n",
    "4. The array is now sorted in ascending order."
   ]
  },
  {
   "cell_type": "code",
   "execution_count": null,
   "metadata": {},
   "outputs": [],
   "source": [
    "def insertion_sort(arr):\n",
    "    n = len(arr)\n",
    "    for i in range(1, n):\n",
    "        key = arr[i]\n",
    "        j = i - 1\n",
    "        while j >= 0 and arr[j] > key:\n",
    "            arr[j + 1] = arr[j]\n",
    "            j -= 1\n",
    "        arr[j + 1] = key\n"
   ]
  }
 ],
 "metadata": {
  "language_info": {
   "name": "python"
  },
  "orig_nbformat": 4
 },
 "nbformat": 4,
 "nbformat_minor": 2
}
