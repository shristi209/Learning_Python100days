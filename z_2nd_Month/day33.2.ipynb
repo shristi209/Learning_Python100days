{
 "cells": [
  {
   "attachments": {},
   "cell_type": "markdown",
   "metadata": {},
   "source": [
    "**Implementing Queue Using Defined Functions**"
   ]
  },
  {
   "cell_type": "code",
   "execution_count": 64,
   "metadata": {},
   "outputs": [],
   "source": [
    "Q=[]\n",
    "font=None\n",
    "rear=None\n",
    "#isEmpty() checks whether the queue is empty or not\n",
    "def isEmpty(que):\n",
    "    if Q==[]:\n",
    "        return True\n",
    "    else:\n",
    "        return False"
   ]
  },
  {
   "cell_type": "code",
   "execution_count": 65,
   "metadata": {},
   "outputs": [],
   "source": [
    "#enqueue() function adds an element to the rear of the queue\n",
    "def enqueue(que, value):\n",
    "    que.append(value)\n",
    "    if len(que)==1:\n",
    "        font=rear=0   #front and rear are set to 0, if the queue is empty\n",
    "    else:\n",
    "        rear=len(que)-1 #"
   ]
  },
  {
   "cell_type": "code",
   "execution_count": 66,
   "metadata": {},
   "outputs": [],
   "source": [
    "#dequeue() function removes the first element from the front of the queue\n",
    "def dequeue(que):\n",
    "    if isEmpty(que) == True:\n",
    "        return \"You cannot delete as there is no element\"\n",
    "    else:\n",
    "        return que.pop(0) "
   ]
  },
  {
   "cell_type": "code",
   "execution_count": 67,
   "metadata": {},
   "outputs": [],
   "source": [
    "#peek() function returns the value of the first element in the queue without removing it\n",
    "def peek(que):\n",
    "    if isEmpty(que)==True:\n",
    "        return \"Not possible\"\n",
    "    else:\n",
    "        return que[0]"
   ]
  },
  {
   "cell_type": "code",
   "execution_count": 68,
   "metadata": {},
   "outputs": [],
   "source": [
    "#display() function displays all the elements in the queue\n",
    "def display(que):\n",
    "    for i in range(len(que)):\n",
    "        print(que[i] , end=' ')"
   ]
  },
  {
   "cell_type": "code",
   "execution_count": 69,
   "metadata": {},
   "outputs": [
    {
     "name": "stdout",
     "output_type": "stream",
     "text": [
      "You cannot delete as there is no element\n"
     ]
    }
   ],
   "source": [
    "print(dequeue(Q))\n",
    "display(Q)"
   ]
  },
  {
   "cell_type": "code",
   "execution_count": 70,
   "metadata": {},
   "outputs": [
    {
     "name": "stdout",
     "output_type": "stream",
     "text": [
      "5 10 15 25 "
     ]
    }
   ],
   "source": [
    "enqueue( Q,  5)\n",
    "enqueue( Q,  10)\n",
    "enqueue( Q,  15)\n",
    "enqueue( Q,  25)   \n",
    "display(Q )"
   ]
  },
  {
   "cell_type": "code",
   "execution_count": 71,
   "metadata": {},
   "outputs": [
    {
     "name": "stdout",
     "output_type": "stream",
     "text": [
      "5\n",
      "10 15 25 "
     ]
    }
   ],
   "source": [
    "print(dequeue(Q)) # 5 is deleted\n",
    "display(Q)"
   ]
  },
  {
   "cell_type": "code",
   "execution_count": 72,
   "metadata": {},
   "outputs": [
    {
     "name": "stdout",
     "output_type": "stream",
     "text": [
      "10\n"
     ]
    }
   ],
   "source": [
    "print(peek(Q)) #peek has return the first value after deleting that is 10"
   ]
  }
 ],
 "metadata": {
  "kernelspec": {
   "display_name": "Python 3",
   "language": "python",
   "name": "python3"
  },
  "language_info": {
   "codemirror_mode": {
    "name": "ipython",
    "version": 3
   },
   "file_extension": ".py",
   "mimetype": "text/x-python",
   "name": "python",
   "nbconvert_exporter": "python",
   "pygments_lexer": "ipython3",
   "version": "3.11.3"
  },
  "orig_nbformat": 4
 },
 "nbformat": 4,
 "nbformat_minor": 2
}
