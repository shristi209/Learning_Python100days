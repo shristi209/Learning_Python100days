{
 "cells": [
  {
   "attachments": {},
   "cell_type": "markdown",
   "metadata": {},
   "source": [
    "# Graph"
   ]
  },
  {
   "attachments": {},
   "cell_type": "markdown",
   "metadata": {},
   "source": [
    "*   non-linear data structure consisting of a set of nodes or vertices connected by edges\n",
    "*   The edges represent the connections or relationships between the nodes\n",
    "*   Graph traversal algorithms, such as depth-first search (DFS) and breadth-first search (BFS), are used to visit all the nodes in a graph"
   ]
  },
  {
   "attachments": {},
   "cell_type": "markdown",
   "metadata": {},
   "source": [
    "*   The below code demonstrates the implementation of a graph using the adjacency list representation"
   ]
  },
  {
   "cell_type": "code",
   "execution_count": 5,
   "metadata": {},
   "outputs": [
    {
     "name": "stdout",
     "output_type": "stream",
     "text": [
      "Graph Dict: {'Mumbai': ['Paris', 'Dubai'], 'Paris': ['Dubai', 'New York'], 'Dubai': ['New York'], 'New York': ['Toronto']}\n",
      "All paths between: Mumbai and New York:  [['Mumbai', 'Paris', 'Dubai', 'New York'], ['Mumbai', 'Paris', 'New York'], ['Mumbai', 'Dubai', 'New York']]\n",
      "Shortest path between Mumbai and New York:  ['Mumbai', 'Paris', 'New York']\n",
      "All paths between: Dubai and New York:  [['Dubai', 'New York']]\n",
      "Shortest path between Dubai and New York:  ['Dubai', 'New York']\n"
     ]
    }
   ],
   "source": [
    "class Graph:\n",
    "    def __init__(self, edges):\n",
    "        self.edges = edges\n",
    "        self.graph_dict = {}\n",
    "        # Creating the adjacency list representation of the graph\n",
    "        for start, end in edges:\n",
    "            if start in self.graph_dict:\n",
    "                self.graph_dict[start].append(end)\n",
    "            else:\n",
    "                self.graph_dict[start] = [end]\n",
    "        print(\"Graph Dict:\", self.graph_dict)\n",
    "\n",
    "    def get_paths(self, start, end, path=[]):\n",
    "        path = path + [start]\n",
    "\n",
    "        if start == end:\n",
    "            return [path]\n",
    "\n",
    "        if start not in self.graph_dict:\n",
    "            return []\n",
    "\n",
    "        paths = []\n",
    "        # Recursively finding all paths from start to end\n",
    "        for node in self.graph_dict[start]:\n",
    "            if node not in path:\n",
    "                new_paths = self.get_paths(node, end, path)\n",
    "                for p in new_paths:\n",
    "                    paths.append(p)\n",
    "\n",
    "        return paths\n",
    "\n",
    "    def get_shortest_path(self, start, end, path=[]):\n",
    "        path = path + [start]\n",
    "\n",
    "        if start == end:\n",
    "            return path\n",
    "\n",
    "        if start not in self.graph_dict:\n",
    "            return None\n",
    "\n",
    "        shortest_path = None\n",
    "        # Recursively finding the shortest path from start to end\n",
    "        for node in self.graph_dict[start]:\n",
    "            if node not in path:\n",
    "                sp = self.get_shortest_path(node, end, path)\n",
    "                if sp:\n",
    "                    if shortest_path is None or len(sp) < len(shortest_path):\n",
    "                        shortest_path = sp\n",
    "\n",
    "        return shortest_path\n",
    "\n",
    "if __name__ == '__main__':\n",
    "    # Define the routes between cities\n",
    "    routes = [\n",
    "        (\"Mumbai\", \"Paris\"),\n",
    "        (\"Mumbai\", \"Dubai\"),\n",
    "        (\"Paris\", \"Dubai\"),\n",
    "        (\"Paris\", \"New York\"),\n",
    "        (\"Dubai\", \"New York\"),\n",
    "        (\"New York\", \"Toronto\"),\n",
    "    ]\n",
    "    # Create the graph object\n",
    "    route_graph = Graph(routes)\n",
    "\n",
    "    start = \"Mumbai\"\n",
    "    end = \"New York\"\n",
    "    # Get all paths between start and end\n",
    "    print(f\"All paths between: {start} and {end}: \",route_graph.get_paths(start,end))\n",
    "    # Get the shortest path between start and end\n",
    "    print(f\"Shortest path between {start} and {end}: \", route_graph.get_shortest_path(start,end))\n",
    "\n",
    "    start = \"Dubai\"\n",
    "    end = \"New York\"\n",
    "\n",
    "    print(f\"All paths between: {start} and {end}: \",route_graph.get_paths(start,end))\n",
    "    print(f\"Shortest path between {start} and {end}: \", route_graph.get_shortest_path(start,end))"
   ]
  }
 ],
 "metadata": {
  "kernelspec": {
   "display_name": "Python 3",
   "language": "python",
   "name": "python3"
  },
  "language_info": {
   "codemirror_mode": {
    "name": "ipython",
    "version": 3
   },
   "file_extension": ".py",
   "mimetype": "text/x-python",
   "name": "python",
   "nbconvert_exporter": "python",
   "pygments_lexer": "ipython3",
   "version": "3.11.3"
  },
  "orig_nbformat": 4
 },
 "nbformat": 4,
 "nbformat_minor": 2
}
