{
 "cells": [
  {
   "attachments": {},
   "cell_type": "markdown",
   "metadata": {},
   "source": [
    "# Dynamic memory allocation"
   ]
  },
  {
   "attachments": {},
   "cell_type": "markdown",
   "metadata": {},
   "source": [
    "*   to allocate memory at runtime rather than compile tim"
   ]
  },
  {
   "attachments": {},
   "cell_type": "markdown",
   "metadata": {},
   "source": [
    "*    implementation of dynamic data structures such as linked lists, trees, and hash tables, where the size of the data structure may change over time. "
   ]
  },
  {
   "cell_type": "code",
   "execution_count": 1,
   "metadata": {},
   "outputs": [
    {
     "name": "stdout",
     "output_type": "stream",
     "text": [
      "The array elements are: [3 4 5]\n"
     ]
    }
   ],
   "source": [
    "#The memory is allocated dynamically because the size of the array is determined at runtime based on the user input.\n",
    "import numpy as np\n",
    "\n",
    "size = int(input(\"Enter the size of the array: \"))\n",
    "arr = np.empty(size, dtype=int)\n",
    "\n",
    "for i in range(size):\n",
    "    arr[i] = int(input(f\"Enter element {i+1}: \"))\n",
    "\n",
    "print(\"The array elements are:\", arr)"
   ]
  }
 ],
 "metadata": {
  "kernelspec": {
   "display_name": "Python 3",
   "language": "python",
   "name": "python3"
  },
  "language_info": {
   "codemirror_mode": {
    "name": "ipython",
    "version": 3
   },
   "file_extension": ".py",
   "mimetype": "text/x-python",
   "name": "python",
   "nbconvert_exporter": "python",
   "pygments_lexer": "ipython3",
   "version": "3.11.3"
  },
  "orig_nbformat": 4
 },
 "nbformat": 4,
 "nbformat_minor": 2
}
