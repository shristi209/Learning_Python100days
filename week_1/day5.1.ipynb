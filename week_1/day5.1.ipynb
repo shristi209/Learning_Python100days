{
 "cells": [
  {
   "attachments": {},
   "cell_type": "markdown",
   "metadata": {},
   "source": [
    "#Functions:"
   ]
  },
  {
   "cell_type": "code",
   "execution_count": 4,
   "metadata": {},
   "outputs": [
    {
     "name": "stdout",
     "output_type": "stream",
     "text": [
      "Hello\n",
      "goodmorning\n"
     ]
    }
   ],
   "source": [
    "def greet():\n",
    "    print('Hello')\n",
    "    print('goodmorning')\n",
    "greet()"
   ]
  },
  {
   "cell_type": "code",
   "execution_count": 1,
   "metadata": {},
   "outputs": [
    {
     "name": "stdout",
     "output_type": "stream",
     "text": [
      "30\n"
     ]
    }
   ],
   "source": [
    "def add():\n",
    "    a=10\n",
    "    b=20\n",
    "    c=a+b\n",
    "    print(c)  \n",
    "add() "
   ]
  },
  {
   "cell_type": "code",
   "execution_count": 6,
   "metadata": {},
   "outputs": [
    {
     "data": {
      "text/plain": [
       "(7, 1)"
      ]
     },
     "execution_count": 6,
     "metadata": {},
     "output_type": "execute_result"
    }
   ],
   "source": [
    "#returning values\n",
    "def add_sub(x,y):\n",
    "    c=x+y\n",
    "    d=y-x\n",
    "    return c,d\n",
    "\n",
    "add_sub(3,4)"
   ]
  },
  {
   "attachments": {},
   "cell_type": "markdown",
   "metadata": {},
   "source": [
    "#Arguments:"
   ]
  },
  {
   "attachments": {},
   "cell_type": "markdown",
   "metadata": {},
   "source": [
    "Types of arguments: positional, default, keyword variable length."
   ]
  },
  {
   "cell_type": "code",
   "execution_count": null,
   "metadata": {},
   "outputs": [],
   "source": [
    "def add(a,b): # passsing arguments formal arg\n",
    "    c=a+b\n",
    "    print(c)\n",
    "add(3,4)      # actual arg"
   ]
  },
  {
   "cell_type": "code",
   "execution_count": 10,
   "metadata": {},
   "outputs": [
    {
     "name": "stdout",
     "output_type": "stream",
     "text": [
      "a: 8\n",
      "b: 20\n"
     ]
    }
   ],
   "source": [
    "a=10                \n",
    "def modify(a):      \n",
    "    a=8     \n",
    "    print('a:',a)     #although a is 10 8 is printed as it is modified\n",
    "b=20\n",
    "modify(b)             \n",
    "print('b:',b)         #value of b is same i.e. 20"
   ]
  },
  {
   "cell_type": "code",
   "execution_count": 13,
   "metadata": {},
   "outputs": [
    {
     "name": "stdout",
     "output_type": "stream",
     "text": [
      "name: shristi\n",
      "age: 21\n",
      "gender: female\n",
      "city: Baneshwor\n"
     ]
    }
   ],
   "source": [
    "#positional & keyword argument\n",
    "def person(name, age, gender, city):\n",
    "    print('name:', name)\n",
    "    print(\"age:\", age)\n",
    "    print(\"gender:\",gender)\n",
    "    print('city:', city)\n",
    "\n",
    "person(age=21, name='shristi', city='Baneshwor', gender='female')  #position of name and age is different from arg so we need to set keywords\n",
    "#example of keyword as well as positional arguments"
   ]
  },
  {
   "cell_type": "code",
   "execution_count": 15,
   "metadata": {},
   "outputs": [
    {
     "name": "stdout",
     "output_type": "stream",
     "text": [
      "cst 123\n"
     ]
    }
   ],
   "source": [
    "#default argument\n",
    "def student(student_name, student_id=123):\n",
    "    print(student_name,student_id)\n",
    "    \n",
    "student('cst')                            #passing only name but id is also printed as we have given the default value for id:123"
   ]
  },
  {
   "cell_type": "code",
   "execution_count": 19,
   "metadata": {},
   "outputs": [
    {
     "name": "stdout",
     "output_type": "stream",
     "text": [
      "5\n",
      "(6, 7, 8, 9)\n"
     ]
    }
   ],
   "source": [
    "#variable length argument\n",
    "#define a function where the number of argument is not fixed\n",
    "def sum(a,*b): # *b means you can have multiple values\n",
    "    print(a) # a = 5\n",
    "    print(b) # b= 6,7,8,9\n",
    "sum(5,6,7,8,9)"
   ]
  },
  {
   "cell_type": "code",
   "execution_count": 21,
   "metadata": {},
   "outputs": [
    {
     "name": "stdout",
     "output_type": "stream",
     "text": [
      "35\n"
     ]
    }
   ],
   "source": [
    "#variable length argument\n",
    "def sum(*b): \n",
    "    c=0\n",
    "    \n",
    "    for i in b:   # loop is necessary as b should keep on changing from 5,6,7,8 to 9\n",
    "        c=c+i     # each element is added with c, c which keeps on updating\n",
    "\n",
    "    print(c)\n",
    "sum(5,6,7,8,9)"
   ]
  },
  {
   "cell_type": "code",
   "execution_count": 23,
   "metadata": {},
   "outputs": [
    {
     "name": "stdout",
     "output_type": "stream",
     "text": [
      "cst\n",
      "{'age': 21, 'city': 'baneshwor', 'gender': 'female'}\n"
     ]
    }
   ],
   "source": [
    "#keworded variable length arguments (kwargs)\n",
    "\n",
    "def person(name, **data):\n",
    "    print(name)\n",
    "    print(data)\n",
    "    \n",
    "person(name='cst',age= 21,city= 'baneshwor',gender= 'female') # added keywords as we have not entered in argument,, but *data doesnot takes keyword so we have to make double **"
   ]
  },
  {
   "attachments": {},
   "cell_type": "markdown",
   "metadata": {},
   "source": [
    "#Global and local variable"
   ]
  },
  {
   "cell_type": "code",
   "execution_count": null,
   "metadata": {},
   "outputs": [],
   "source": [
    "a=10                                 #Global variable\n",
    "def variable():\n",
    "    \n",
    "    a=20                            #local variable\n",
    "    print('in func a:',a)\n",
    "       \n",
    "variable()\n",
    "print('out func a:',a)"
   ]
  },
  {
   "cell_type": "code",
   "execution_count": 26,
   "metadata": {},
   "outputs": [
    {
     "name": "stdout",
     "output_type": "stream",
     "text": [
      "in func a: 10\n",
      "out func a: 10\n"
     ]
    }
   ],
   "source": [
    "##wants to cange the value of local variabe using global variable\n",
    "a=10                                 #Global variable\n",
    "def variable():     #local variable\n",
    "    print('in func a:',a) # global = local\n",
    "    \n",
    "variable()\n",
    "print('out func a:',a)"
   ]
  },
  {
   "cell_type": "code",
   "execution_count": 25,
   "metadata": {},
   "outputs": [
    {
     "name": "stdout",
     "output_type": "stream",
     "text": [
      "in func 15\n",
      "outside 15\n"
     ]
    }
   ],
   "source": [
    "#wants to change the value of global variabe using local variable\n",
    "a=10\n",
    "def variable():\n",
    "    global a   # set :global a, means value of a is updated to 15 i.e local variable\n",
    "    a=15\n",
    "    print('in func',a)\n",
    "variable()\n",
    "print(\"outside\",a)"
   ]
  },
  {
   "cell_type": "code",
   "execution_count": 28,
   "metadata": {},
   "outputs": [
    {
     "name": "stdout",
     "output_type": "stream",
     "text": [
      "140707642336328\n",
      "140707642336328\n",
      "in func 15\n",
      "outside 10\n"
     ]
    }
   ],
   "source": [
    "#globals func to keep global and local in func inside\n",
    "a=10\n",
    "print(id(a))    #contains same address\n",
    "def variable():\n",
    "      \n",
    "    a=15\n",
    "    x=globals()['a']\n",
    "    print(id(x))\n",
    "    print('in func',a)\n",
    "variable()\n",
    "print(\"outside\",a)"
   ]
  }
 ],
 "metadata": {
  "kernelspec": {
   "display_name": "Python 3",
   "language": "python",
   "name": "python3"
  },
  "language_info": {
   "codemirror_mode": {
    "name": "ipython",
    "version": 3
   },
   "file_extension": ".py",
   "mimetype": "text/x-python",
   "name": "python",
   "nbconvert_exporter": "python",
   "pygments_lexer": "ipython3",
   "version": "3.11.1"
  },
  "orig_nbformat": 4,
  "vscode": {
   "interpreter": {
    "hash": "6129d117509418a05d0676e08790583f493dc20582e5b5500f27636a9be81986"
   }
  }
 },
 "nbformat": 4,
 "nbformat_minor": 2
}
