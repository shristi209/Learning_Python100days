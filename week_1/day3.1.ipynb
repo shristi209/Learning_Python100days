{
 "cells": [
  {
   "attachments": {},
   "cell_type": "markdown",
   "metadata": {},
   "source": [
    "While loop with examples"
   ]
  },
  {
   "cell_type": "code",
   "execution_count": 21,
   "metadata": {},
   "outputs": [
    {
     "name": "stdout",
     "output_type": "stream",
     "text": [
      "0\n",
      "2\n",
      "4\n",
      "6\n",
      "8\n"
     ]
    }
   ],
   "source": [
    "#even numbers\n",
    "i=0\n",
    "while i<10:\n",
    "    print(i)\n",
    "    i=i+2"
   ]
  },
  {
   "cell_type": "code",
   "execution_count": null,
   "metadata": {},
   "outputs": [
    {
     "name": "stdout",
     "output_type": "stream",
     "text": [
      "1\n",
      "2\n",
      "3\n",
      "4\n",
      "5\n",
      "6\n",
      "7\n",
      "8\n",
      "9\n"
     ]
    }
   ],
   "source": [
    "#1 to 10 print\n",
    "i=1\n",
    "while i<=10:\n",
    "    print(i)\n",
    "    i=i+1"
   ]
  },
  {
   "cell_type": "code",
   "execution_count": null,
   "metadata": {},
   "outputs": [
    {
     "name": "stdout",
     "output_type": "stream",
     "text": [
      "0\n",
      "1\n",
      "2\n",
      "3\n",
      "4\n",
      "5\n",
      "6\n",
      "7\n",
      "8\n",
      "9\n",
      "10\n",
      "11\n",
      "12\n",
      "13\n",
      "14\n",
      "15\n",
      "16\n",
      "17\n",
      "18\n",
      "19\n",
      "20\n",
      "21\n",
      "22\n",
      "23\n",
      "24\n",
      "25\n",
      "26\n",
      "27\n",
      "28\n",
      "29\n",
      "30\n",
      "31\n",
      "32\n",
      "33\n",
      "34\n",
      "35\n",
      "36\n",
      "37\n",
      "38\n",
      "39\n",
      "40\n",
      "41\n",
      "42\n",
      "43\n",
      "44\n",
      "45\n",
      "46\n",
      "47\n",
      "48\n",
      "49\n",
      "50\n",
      "51\n",
      "52\n",
      "53\n",
      "54\n",
      "55\n",
      "56\n",
      "57\n",
      "58\n",
      "59\n",
      "60\n",
      "61\n",
      "62\n",
      "63\n",
      "64\n",
      "65\n",
      "66\n",
      "67\n",
      "68\n",
      "69\n",
      "70\n",
      "71\n",
      "72\n",
      "73\n",
      "74\n",
      "75\n",
      "76\n",
      "77\n",
      "78\n",
      "79\n",
      "80\n",
      "81\n",
      "82\n",
      "83\n",
      "84\n",
      "85\n",
      "86\n",
      "87\n",
      "88\n",
      "89\n",
      "90\n",
      "91\n",
      "92\n",
      "93\n",
      "94\n",
      "95\n",
      "96\n",
      "97\n",
      "98\n",
      "99\n",
      "5050\n"
     ]
    }
   ],
   "source": [
    "#sum of all numbers from 1-100\n",
    "i=0\n",
    "total=0\n",
    "while i<100:\n",
    "    print(i)\n",
    "    i=i+1\n",
    "    total+=i # total =total +i, 0+0, 0+1, 1+2, 3+3, 6+4,.........4951+99=5050\n",
    "print(total)"
   ]
  },
  {
   "cell_type": "code",
   "execution_count": null,
   "metadata": {},
   "outputs": [
    {
     "name": "stdout",
     "output_type": "stream",
     "text": [
      "23\n",
      "34\n",
      "45\n",
      "20\n"
     ]
    }
   ],
   "source": [
    "x=''\n",
    "while x!=20:\n",
    "    x=int(input('enter your age'))   # stops when you enter your age i.e. 20 but continue when you enter other number\n",
    "    print(x)"
   ]
  },
  {
   "attachments": {},
   "cell_type": "markdown",
   "metadata": {},
   "source": [
    "number guessing game:"
   ]
  },
  {
   "cell_type": "code",
   "execution_count": 18,
   "metadata": {},
   "outputs": [
    {
     "name": "stdout",
     "output_type": "stream",
     "text": [
      "45\n",
      "entered number is low\n",
      "45\n",
      "entered number is low\n",
      "70\n",
      "entered number is high\n",
      "60\n",
      "entered number is high\n",
      "50\n",
      "entered number is high\n",
      "47\n",
      "entered number is low\n",
      "48\n",
      "entered number is low\n",
      "49\n",
      "Exactly! you got it. The number is 49\n"
     ]
    }
   ],
   "source": [
    "import random  # random module\n",
    "computer=random.randint(1,100)  #randint function from random module\n",
    "\n",
    "user_guess=''          #string\n",
    "while user_guess!=computer:                        #runs until computer given number and user input number are same\n",
    "    user_guess=int(input('Guess Any number(from 1-100)'))\n",
    "    print(user_guess)\n",
    "    if user_guess>computer:\n",
    "        print(\"entered number is high\")\n",
    "    elif user_guess==computer:\n",
    "        print(f'Exactly! you got it. The number is {computer}')\n",
    "    else:\n",
    "        print('entered number is low')"
   ]
  },
  {
   "cell_type": "code",
   "execution_count": null,
   "metadata": {},
   "outputs": [],
   "source": [
    "#Enter password until the user enter the correct password\n",
    "correct_password=input('Enter your correct password')\n",
    "recent_password=''\n",
    "while recent_password!=correct_password:\n",
    "    recent_password=input(\"Enter your password\")\n",
    "    if(recent_password!=correct_password):\n",
    "        print(\"Incorrect Password\")\n",
    "    else:\n",
    "        print('\\nYou can log in now!')"
   ]
  },
  {
   "cell_type": "code",
   "execution_count": 20,
   "metadata": {},
   "outputs": [
    {
     "name": "stdout",
     "output_type": "stream",
     "text": [
      "0\n",
      "1\n",
      "1\n",
      "2\n",
      "3\n"
     ]
    }
   ],
   "source": [
    "#Fibonacci\n",
    "#0,1,0+1=1,1+1=2,1+2=3,3+2=5,7,12,19,.....\n",
    "x=int(input('Enter the number of terms')) #7\n",
    "a,b=0,1\n",
    "y=0\n",
    "while y<x:    #y is 0 at first, keeps on increasing as y=y+1 and when 7<7 stops\n",
    "    print(a)\n",
    "    a,b=b,a+b #a=b, b=a+b, swap\n",
    "    y=y+1  \n",
    "        "
   ]
  },
  {
   "cell_type": "code",
   "execution_count": 9,
   "metadata": {},
   "outputs": [
    {
     "name": "stdout",
     "output_type": "stream",
     "text": [
      "120\n"
     ]
    }
   ],
   "source": [
    "#factorial\n",
    "#5!= 5*4*3*2*1\n",
    "num=1\n",
    "x=int(input('Enter any number to find factorial'))  #5\n",
    "while x>0:                 #5x4x3x2x1, 4      , 3       , 2        ,1\n",
    "    num*=x  #num=num*x     1x5       , 5*4=20 , 20x3=60 , 60x2=120 ,120x1=120\n",
    "    x=x-1 #x-=1            5-1=4,    , 4-1=3  , 3-1=2   ,1         , 0\n",
    "print('the factorial is',num) #5,    , 20    ,74        ,120       ,120"
   ]
  }
 ],
 "metadata": {
  "kernelspec": {
   "display_name": "Python 3",
   "language": "python",
   "name": "python3"
  },
  "language_info": {
   "codemirror_mode": {
    "name": "ipython",
    "version": 3
   },
   "file_extension": ".py",
   "mimetype": "text/x-python",
   "name": "python",
   "nbconvert_exporter": "python",
   "pygments_lexer": "ipython3",
   "version": "3.11.1"
  },
  "orig_nbformat": 4,
  "vscode": {
   "interpreter": {
    "hash": "6129d117509418a05d0676e08790583f493dc20582e5b5500f27636a9be81986"
   }
  }
 },
 "nbformat": 4,
 "nbformat_minor": 2
}
