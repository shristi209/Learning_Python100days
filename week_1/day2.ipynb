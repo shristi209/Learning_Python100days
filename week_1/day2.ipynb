{
 "cells": [
  {
   "cell_type": "code",
   "execution_count": 25,
   "metadata": {},
   "outputs": [
    {
     "name": "stdout",
     "output_type": "stream",
     "text": [
      "your age is 21 years old\n"
     ]
    }
   ],
   "source": [
    "#Enter year and get your age\n",
    "year=int(input(\"your birth year?\"))\n",
    "print(f'Your age is {2023-year} years old')"
   ]
  },
  {
   "attachments": {},
   "cell_type": "markdown",
   "metadata": {},
   "source": [
    "Math Function(sqrt, pow, ceil, floor, )\n",
    "Ceil: roundoff and makes the upper value, Floor: the float value gives integer of lower limit."
   ]
  },
  {
   "cell_type": "code",
   "execution_count": 2,
   "metadata": {},
   "outputs": [
    {
     "name": "stdout",
     "output_type": "stream",
     "text": [
      "3.872983346207417\n",
      "8.0\n",
      "3\n",
      "4\n"
     ]
    }
   ],
   "source": [
    "import math\n",
    "x=math.sqrt(15)   #sqrt\n",
    "print(x)\n",
    "\n",
    "y=math.pow(2,3)   #pow\n",
    "print(y)\n",
    "\n",
    "print(math.floor(x))   #floor 3.872983346207417 becomes 3\n",
    "print(math.ceil(x))    #ceil  3.872983346207417 becomes 4\n",
    "\n",
    "print(math.pi)\n",
    "print(math.e)"
   ]
  },
  {
   "attachments": {},
   "cell_type": "markdown",
   "metadata": {},
   "source": [
    "importing math as m, and using 'm' in a place of math"
   ]
  },
  {
   "cell_type": "code",
   "execution_count": 3,
   "metadata": {},
   "outputs": [
    {
     "name": "stdout",
     "output_type": "stream",
     "text": [
      "3.141592653589793\n",
      "5.0\n",
      "9.0\n"
     ]
    }
   ],
   "source": [
    "import math as m\n",
    "print(m.pi)\n",
    "print(m.sqrt(25))\n",
    "print(m.pow(3,2))"
   ]
  },
  {
   "cell_type": "code",
   "execution_count": 5,
   "metadata": {},
   "outputs": [
    {
     "name": "stdout",
     "output_type": "stream",
     "text": [
      "9.0\n",
      "25.0\n"
     ]
    }
   ],
   "source": [
    "#importing function and using it directly\n",
    "from math import sqrt, pow\n",
    "print(sqrt(81))\n",
    "print(pow(5,2))"
   ]
  },
  {
   "attachments": {},
   "cell_type": "markdown",
   "metadata": {},
   "source": [
    "if, elif, else statement"
   ]
  },
  {
   "cell_type": "code",
   "execution_count": 29,
   "metadata": {},
   "outputs": [
    {
     "name": "stdout",
     "output_type": "stream",
     "text": [
      "203451\n",
      "the number 203451 is odd\n"
     ]
    }
   ],
   "source": [
    "#odd or even(if-else statement)\n",
    "x= int(input(\"enter any number to check odd or even\"))\n",
    "\n",
    "print(x)\n",
    "if x%2==0:\n",
    "    print(f'the number {x}is even')\n",
    "else:\n",
    "    print(f'the number {x} is odd')\n"
   ]
  },
  {
   "cell_type": "code",
   "execution_count": 9,
   "metadata": {},
   "outputs": [
    {
     "name": "stdout",
     "output_type": "stream",
     "text": [
      "Your age is 15\n",
      "You cannot vote. You'll be eligible after3 years\n"
     ]
    }
   ],
   "source": [
    "#nested if- if inside if\n",
    "x= int(input('enter your age for eligibility for voting:'))\n",
    "print(f\"Your age is {x}\")\n",
    "if(x>=18):\n",
    "    print(\"you are eligible:\")\n",
    "    if (x<40|x>=18):\n",
    "        print('Please go and stay in room no.5 untill your turn comes.')\n",
    "    else:\n",
    "        print('Please go and stay in room no.3 untill your turn comes.')\n",
    "else:\n",
    "    print(f\"You cannot vote. You'll be eligible after{18-x} years\")\n"
   ]
  },
  {
   "cell_type": "code",
   "execution_count": 43,
   "metadata": {},
   "outputs": [
    {
     "name": "stdout",
     "output_type": "stream",
     "text": [
      "inserted percentage is 97.0%\n",
      "Great!You got distinction\n"
     ]
    }
   ],
   "source": [
    "#elif statement,  importing students perentage and giving their division\n",
    "i=0\n",
    "per= float(input('Enter percentage of student'))\n",
    "print(f'inserted percentage is {per}%')\n",
    "if per <= 100:\n",
    "    if per>=80:\n",
    "        print('Great!You got distinction')\n",
    "    elif per>=65:\n",
    "        print('You got 1st division')\n",
    "    elif per>=55:\n",
    "        print('You got 2nd division')\n",
    "    else:\n",
    "        print('Fail')\n",
    "else:\n",
    "    print('invalid number! insert number under 100')"
   ]
  },
  {
   "attachments": {},
   "cell_type": "markdown",
   "metadata": {},
   "source": [
    "next day: while, for loop with many question ans"
   ]
  }
 ],
 "metadata": {
  "kernelspec": {
   "display_name": "Python 3",
   "language": "python",
   "name": "python3"
  },
  "language_info": {
   "codemirror_mode": {
    "name": "ipython",
    "version": 3
   },
   "file_extension": ".py",
   "mimetype": "text/x-python",
   "name": "python",
   "nbconvert_exporter": "python",
   "pygments_lexer": "ipython3",
   "version": "3.11.1"
  },
  "orig_nbformat": 4,
  "vscode": {
   "interpreter": {
    "hash": "6129d117509418a05d0676e08790583f493dc20582e5b5500f27636a9be81986"
   }
  }
 },
 "nbformat": 4,
 "nbformat_minor": 2
}
