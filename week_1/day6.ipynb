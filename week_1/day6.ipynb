{
 "cells": [
  {
   "attachments": {},
   "cell_type": "markdown",
   "metadata": {},
   "source": [
    "#High order functions"
   ]
  },
  {
   "cell_type": "code",
   "execution_count": 3,
   "metadata": {},
   "outputs": [
    {
     "name": "stdout",
     "output_type": "stream",
     "text": [
      "25\n"
     ]
    }
   ],
   "source": [
    "#Lamda Function(Anonymous):func without name\n",
    "#The function takes any number of arguments, but can only have one expression.\n",
    "f = lambda a : a*a    # a is srgument and f is func\n",
    "result=f(5)           #passing 5 in func\n",
    "print(result)         "
   ]
  },
  {
   "cell_type": "code",
   "execution_count": 4,
   "metadata": {},
   "outputs": [
    {
     "name": "stdout",
     "output_type": "stream",
     "text": [
      "7\n"
     ]
    }
   ],
   "source": [
    "f=lambda a,b : a+b #addition\n",
    "result=f(3,4)\n",
    "print(result)"
   ]
  },
  {
   "attachments": {},
   "cell_type": "markdown",
   "metadata": {},
   "source": [
    "Lambda functions are often used as arguments to higher-order functions, such as map(), filter(), and reduce()."
   ]
  },
  {
   "cell_type": "code",
   "execution_count": 9,
   "metadata": {},
   "outputs": [
    {
     "name": "stdout",
     "output_type": "stream",
     "text": [
      "[2, 4, 6, 8]\n"
     ]
    }
   ],
   "source": [
    "#filter\n",
    "#This function takes a function and an iterable as arguments, and returns a new iterable that contains only the elements of the input iterable for which the function returns True. \n",
    "\n",
    "numbers=[2,3,4,5,6,7,8,9]\n",
    "even=list(filter(lambda x: x%2==0, numbers)) # filters the even number,, gives the result which is true\n",
    "print(even)\n"
   ]
  },
  {
   "cell_type": "code",
   "execution_count": 10,
   "metadata": {},
   "outputs": [
    {
     "name": "stdout",
     "output_type": "stream",
     "text": [
      "[4, 5, 6, 7, 8, 9, 10, 11]\n"
     ]
    }
   ],
   "source": [
    "#map takes the function and the iterable\n",
    "number = [2,3,4,5,6,7]\n",
    "sum = list(map(lambda n:n+2, numbers))\n",
    "print(sum)"
   ]
  },
  {
   "cell_type": "code",
   "execution_count": 11,
   "metadata": {},
   "outputs": [
    {
     "name": "stdout",
     "output_type": "stream",
     "text": [
      "15\n"
     ]
    }
   ],
   "source": [
    "#reduce\n",
    "from functools import reduce\n",
    "numbers = [1, 2, 3, 4, 5]\n",
    "sum = reduce(lambda x, y: x + y, numbers) # always two parameter at a time \n",
    "print(sum)  "
   ]
  }
 ],
 "metadata": {
  "kernelspec": {
   "display_name": "Python 3",
   "language": "python",
   "name": "python3"
  },
  "language_info": {
   "codemirror_mode": {
    "name": "ipython",
    "version": 3
   },
   "file_extension": ".py",
   "mimetype": "text/x-python",
   "name": "python",
   "nbconvert_exporter": "python",
   "pygments_lexer": "ipython3",
   "version": "3.11.1"
  },
  "orig_nbformat": 4,
  "vscode": {
   "interpreter": {
    "hash": "6129d117509418a05d0676e08790583f493dc20582e5b5500f27636a9be81986"
   }
  }
 },
 "nbformat": 4,
 "nbformat_minor": 2
}
