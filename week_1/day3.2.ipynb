{
 "cells": [
  {
   "attachments": {},
   "cell_type": "markdown",
   "metadata": {},
   "source": [
    "For Loop with examples:"
   ]
  },
  {
   "cell_type": "code",
   "execution_count": 50,
   "metadata": {},
   "outputs": [
    {
     "name": "stdout",
     "output_type": "stream",
     "text": [
      "s\n",
      "h\n",
      "r\n",
      "i\n",
      "s\n",
      "t\n",
      "i\n"
     ]
    }
   ],
   "source": [
    "x='shristi'\n",
    "for i in x:\n",
    "    print(i)    # in string i is used to represent each element of the sequence x=string"
   ]
  },
  {
   "cell_type": "code",
   "execution_count": 51,
   "metadata": {},
   "outputs": [
    {
     "name": "stdout",
     "output_type": "stream",
     "text": [
      "apple\n",
      "ball\n",
      "cat\n",
      "dog\n"
     ]
    }
   ],
   "source": [
    "x=['apple','ball','cat','dog']\n",
    "for i in x:           #list is separated as i here is use to represent each elemnt\n",
    "    print(i)"
   ]
  },
  {
   "cell_type": "code",
   "execution_count": 52,
   "metadata": {},
   "outputs": [
    {
     "name": "stdout",
     "output_type": "stream",
     "text": [
      "23\n",
      "3\n",
      "4\n",
      "45\n",
      "56\n",
      "76\n"
     ]
    }
   ],
   "source": [
    "x=[23,3,4,45,56,76]\n",
    "for i in x:\n",
    "    print(i)"
   ]
  },
  {
   "cell_type": "code",
   "execution_count": 44,
   "metadata": {},
   "outputs": [
    {
     "data": {
      "text/plain": [
       "7"
      ]
     },
     "execution_count": 44,
     "metadata": {},
     "output_type": "execute_result"
    }
   ],
   "source": [
    "# lenth of string using len\n",
    "x='shristi'\n",
    "len(x)"
   ]
  },
  {
   "cell_type": "code",
   "execution_count": 26,
   "metadata": {},
   "outputs": [
    {
     "name": "stdout",
     "output_type": "stream",
     "text": [
      "0\n",
      "1\n",
      "2\n",
      "3\n",
      "4\n",
      "5\n",
      "6\n",
      "7\n",
      "8\n",
      "9\n",
      "sum of even number only is:  20\n"
     ]
    }
   ],
   "source": [
    "#takes list of integer as input and cumpute sum of even numbers\n",
    "x=int(input('enter number'))\n",
    "i=0\n",
    "total=0\n",
    "for i in range(0,x,1):     #lower, upper, iteration\n",
    "    print(i)\n",
    "    if(i%2==0):              \n",
    "        total+=i             # only even number is totaling\n",
    "print('sum of even number only is: ',total)\n",
    "    "
   ]
  },
  {
   "attachments": {},
   "cell_type": "markdown",
   "metadata": {},
   "source": [
    "string as input and prints out all the vowels in the string"
   ]
  },
  {
   "cell_type": "code",
   "execution_count": 56,
   "metadata": {},
   "outputs": [
    {
     "name": "stdout",
     "output_type": "stream",
     "text": [
      "your entered food name is pasta chowmin\n",
      "The vowels are given below:\n",
      "a\n",
      "a\n",
      "o\n",
      "i\n"
     ]
    }
   ],
   "source": [
    "x=str(input('Enter your favourite food name(in lower case)'))\n",
    "print('your entered food name is',x)\n",
    "print('The vowels are given below:')\n",
    "for i in x:\n",
    "    if (i=='a'):\n",
    "        print('a')\n",
    "    elif(i=='e'):\n",
    "        print('e')\n",
    "    elif(i=='i'):\n",
    "        print('i')\n",
    "    elif(i=='o'):\n",
    "        print('o')\n",
    "    elif(i=='u'):\n",
    "        print('u')\n"
   ]
  },
  {
   "cell_type": "code",
   "execution_count": 43,
   "metadata": {},
   "outputs": [
    {
     "name": "stdout",
     "output_type": "stream",
     "text": [
      "23\n",
      "56\n",
      "2\n",
      "98\n",
      "-22\n",
      "4\n",
      "min value -22\n",
      "max value 98\n"
     ]
    }
   ],
   "source": [
    "#maximum and minimum values in the list\n",
    "x=[23,56,2,98,-22,4]\n",
    "min=x[0]             #atfirst all max, min and i point at position 0, \n",
    "max=x[0]\n",
    "for i in x:\n",
    "    print(i)\n",
    "    if (i<min):       #then i checks with every value/position and and returns max and min value\n",
    "        min=i \n",
    "    if(i>max):\n",
    "        max=i\n",
    "print('min value',min)    \n",
    "print('max value',max)     "
   ]
  }
 ],
 "metadata": {
  "kernelspec": {
   "display_name": "Python 3",
   "language": "python",
   "name": "python3"
  },
  "language_info": {
   "codemirror_mode": {
    "name": "ipython",
    "version": 3
   },
   "file_extension": ".py",
   "mimetype": "text/x-python",
   "name": "python",
   "nbconvert_exporter": "python",
   "pygments_lexer": "ipython3",
   "version": "3.11.1"
  },
  "orig_nbformat": 4,
  "vscode": {
   "interpreter": {
    "hash": "6129d117509418a05d0676e08790583f493dc20582e5b5500f27636a9be81986"
   }
  }
 },
 "nbformat": 4,
 "nbformat_minor": 2
}
