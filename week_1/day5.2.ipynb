{
 "cells": [
  {
   "attachments": {},
   "cell_type": "markdown",
   "metadata": {},
   "source": [
    "#Examples of functionS"
   ]
  },
  {
   "attachments": {},
   "cell_type": "markdown",
   "metadata": {},
   "source": [
    "#fibonacci"
   ]
  },
  {
   "cell_type": "code",
   "execution_count": 6,
   "metadata": {},
   "outputs": [
    {
     "name": "stdout",
     "output_type": "stream",
     "text": [
      "0\n",
      "1\n",
      "1\n"
     ]
    }
   ],
   "source": [
    "#fibonacci(0,1,1,2,3,5,8)\n",
    "def fibo(x):\n",
    "    a,b=0,1\n",
    "    y=0\n",
    "    while y<x:\n",
    "        \n",
    "        print(a)\n",
    "        a,b=b,a+b\n",
    "        y=y+1\n",
    "\n",
    "fibo(3)"
   ]
  },
  {
   "attachments": {},
   "cell_type": "markdown",
   "metadata": {},
   "source": [
    "#factorial"
   ]
  },
  {
   "cell_type": "code",
   "execution_count": 13,
   "metadata": {},
   "outputs": [
    {
     "name": "stdout",
     "output_type": "stream",
     "text": [
      "120\n"
     ]
    }
   ],
   "source": [
    "#factorial(5!=5x4x3x2x1)\n",
    "def facto(x):\n",
    "    \n",
    "    y=1\n",
    "    while x>0:\n",
    "        y=y*x\n",
    "        x=x-1\n",
    "    print(y)        \n",
    "\n",
    "facto(5)"
   ]
  },
  {
   "attachments": {},
   "cell_type": "markdown",
   "metadata": {},
   "source": [
    "#Recursion"
   ]
  },
  {
   "cell_type": "code",
   "execution_count": null,
   "metadata": {},
   "outputs": [],
   "source": [
    "#calling its func repeteadly\n",
    "import sys  \n",
    "print(sys.setrecursionlimit(50))\n",
    "print(sys.getrecursionlimit())\n",
    "def greet():\n",
    "    print('Hello people')\n",
    "    \n",
    "    greet()                #calling greet repeatedly but we should give limit\n",
    "                           #when we set 200 it repeatedly call 200 times,\n",
    "greet()\n",
    "#answer is 200 times hello people,"
   ]
  },
  {
   "attachments": {},
   "cell_type": "markdown",
   "metadata": {},
   "source": [
    "#Factorial using recursion"
   ]
  },
  {
   "cell_type": "code",
   "execution_count": 14,
   "metadata": {},
   "outputs": [
    {
     "name": "stdout",
     "output_type": "stream",
     "text": [
      "120\n"
     ]
    }
   ],
   "source": [
    "#not necessary of loop\n",
    "def factorial(n):\n",
    "    \n",
    "    if n==0:\n",
    "        return 1\n",
    "    \n",
    "    return n* factorial(n-1)\n",
    "    \n",
    "x=factorial(5)\n",
    "print(x)"
   ]
  }
 ],
 "metadata": {
  "kernelspec": {
   "display_name": "Python 3",
   "language": "python",
   "name": "python3"
  },
  "language_info": {
   "codemirror_mode": {
    "name": "ipython",
    "version": 3
   },
   "file_extension": ".py",
   "mimetype": "text/x-python",
   "name": "python",
   "nbconvert_exporter": "python",
   "pygments_lexer": "ipython3",
   "version": "3.11.1"
  },
  "orig_nbformat": 4,
  "vscode": {
   "interpreter": {
    "hash": "6129d117509418a05d0676e08790583f493dc20582e5b5500f27636a9be81986"
   }
  }
 },
 "nbformat": 4,
 "nbformat_minor": 2
}
