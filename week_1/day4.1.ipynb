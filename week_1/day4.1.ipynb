{
 "cells": [
  {
   "attachments": {},
   "cell_type": "markdown",
   "metadata": {},
   "source": [
    "#Arrays"
   ]
  },
  {
   "attachments": {},
   "cell_type": "markdown",
   "metadata": {},
   "source": [
    "Type is necessary to mention in array and should be same.\n",
    "are created using the array module.\n",
    "cann be sorted using sorted function.\n",
    "len, append, insert, remove, pop, count, index methods are used. can be converted into list or tuple using tolist or tupple method"
   ]
  },
  {
   "cell_type": "code",
   "execution_count": 3,
   "metadata": {},
   "outputs": [
    {
     "data": {
      "text/plain": [
       "array('i', [1, 2, -3, 4, 4])"
      ]
     },
     "execution_count": 3,
     "metadata": {},
     "output_type": "execute_result"
    }
   ],
   "source": [
    "import array as a\n",
    "a.array('i',[1,2,-3,4,4]) # 'i'(signed int) takes only integer value. if float then doesnot run"
   ]
  },
  {
   "cell_type": "code",
   "execution_count": 6,
   "metadata": {},
   "outputs": [
    {
     "name": "stdout",
     "output_type": "stream",
     "text": [
      "array('I', [23, 34, 45, 67])\n"
     ]
    }
   ],
   "source": [
    "from array import * # '*' if you want to work with all the functions\n",
    "\n",
    "x=array('I',[23,34,45,67]) #'I' signed int cannot use '-'\n",
    "print(x)"
   ]
  },
  {
   "cell_type": "code",
   "execution_count": 7,
   "metadata": {},
   "outputs": [
    {
     "ename": "OverflowError",
     "evalue": "can't convert negative value to unsigned int",
     "output_type": "error",
     "traceback": [
      "\u001b[1;31m---------------------------------------------------------------------------\u001b[0m",
      "\u001b[1;31mOverflowError\u001b[0m                             Traceback (most recent call last)",
      "Cell \u001b[1;32mIn[7], line 3\u001b[0m\n\u001b[0;32m      1\u001b[0m \u001b[39mfrom\u001b[39;00m \u001b[39marray\u001b[39;00m \u001b[39mimport\u001b[39;00m \u001b[39m*\u001b[39m \u001b[39m# '*' if you want to work with all the functions\u001b[39;00m\n\u001b[1;32m----> 3\u001b[0m x\u001b[39m=\u001b[39marray(\u001b[39m'\u001b[39;49m\u001b[39mI\u001b[39;49m\u001b[39m'\u001b[39;49m,[\u001b[39m23\u001b[39;49m,\u001b[39m-\u001b[39;49m\u001b[39m34\u001b[39;49m,\u001b[39m45.5\u001b[39;49m,\u001b[39m67\u001b[39;49m]) \u001b[39m#'I' signed int cannot use '-'\u001b[39;00m\n\u001b[0;32m      4\u001b[0m \u001b[39mprint\u001b[39m(x)\n",
      "\u001b[1;31mOverflowError\u001b[0m: can't convert negative value to unsigned int"
     ]
    }
   ],
   "source": [
    "from array import * \n",
    "\n",
    "x=array('I',[23,-34,45.5,67]) #doesnot work as I is only for +ve integer and we are using neg as well as float value\n",
    "print(x)"
   ]
  },
  {
   "cell_type": "code",
   "execution_count": 19,
   "metadata": {},
   "outputs": [
    {
     "name": "stdout",
     "output_type": "stream",
     "text": [
      "-9\n",
      "array('i', [2, 70, 20, -9, 5])\n"
     ]
    }
   ],
   "source": [
    "#reverse\n",
    "from array import *\n",
    "\n",
    "x=array('i',[5,-9,20,70,2])\n",
    "print(x[1]) # -9 is printed as we declare the position i.e 1(0,1)\n",
    "x.reverse() #reversing\n",
    "print(x)"
   ]
  },
  {
   "cell_type": "code",
   "execution_count": 22,
   "metadata": {},
   "outputs": [
    {
     "name": "stdout",
     "output_type": "stream",
     "text": [
      "22\n",
      "34\n",
      "45\n",
      "56\n",
      "67\n"
     ]
    }
   ],
   "source": [
    "from array import *\n",
    "x=array('i',[22,34,45,56,67])\n",
    "for i in range(5):    # when you know the length\n",
    "    print(x[i])"
   ]
  },
  {
   "cell_type": "code",
   "execution_count": 33,
   "metadata": {},
   "outputs": [
    {
     "name": "stdout",
     "output_type": "stream",
     "text": [
      "22\n",
      "34\n",
      "45\n",
      "56\n",
      "67\n"
     ]
    }
   ],
   "source": [
    "from array import *\n",
    "x=array('i',[22,34,45,56,67])\n",
    "for i in range(len(x)):   #when you dont know the length   \n",
    "    print(i)"
   ]
  },
  {
   "cell_type": "code",
   "execution_count": 34,
   "metadata": {},
   "outputs": [
    {
     "name": "stdout",
     "output_type": "stream",
     "text": [
      "(2018324763952, 4)\n"
     ]
    }
   ],
   "source": [
    "#buffer info\n",
    "from array import *\n",
    "\n",
    "x=array('I',[23,34,45,67]) \n",
    "print(x.buffer_info())   # (2018324763952, 4) 1st one is address and 2nd is length of x "
   ]
  },
  {
   "attachments": {},
   "cell_type": "markdown",
   "metadata": {},
   "source": [
    "Inserting and searching value in array"
   ]
  },
  {
   "cell_type": "code",
   "execution_count": 46,
   "metadata": {},
   "outputs": [
    {
     "name": "stdout",
     "output_type": "stream",
     "text": [
      "array('i', [12, 23, 34, 45, 56])\n",
      "number is found in 4th position 56\n"
     ]
    }
   ],
   "source": [
    "from array import *\n",
    "x=array('i',[])\n",
    "number = int(input('Enter the lengrth of array'))   \n",
    "for i in range(number):  #range is given by the user itself\n",
    "    user_value=int(input('Enter the value:'))\n",
    "    x.append(user_value) #add user inserted value in x i.e. in array\n",
    "print(x)\n",
    "k=0               # k gives the index number/position of searched value\n",
    "search_value=int(input('Enter the value to search:'))  #search value the user wants\n",
    "for e in x:                                        \n",
    "    if e==search_value:                                 # e each is number of array in a loop, equals with search value which user has inserted\n",
    "        print(\"your search number is:\",search_value)\n",
    "        print(f\"index number:{k}\")\n",
    "    else:\n",
    "        print(\"Not found\")\n",
    "    k=k+1                                              #keeps on increasing by 1 when the value is not found"
   ]
  },
  {
   "attachments": {},
   "cell_type": "markdown",
   "metadata": {},
   "source": [
    "| Type code | Python Type | C Type | Min. size in bytes |\n",
    "| --- | --- | --- | --- |\n",
    "| 'b' | int | signed char | 1 |\n",
    "| 'B' | int | unsigned char | 1 |\n",
    "| 'h' | int | signed short | 2 |\n",
    "| 'H' | int | unsigned short | 2 |\n",
    "| 'i' | int | signed int | 2 |\n",
    "| 'I' | int | unsigned int | 2 |\n",
    "| 'l' | int | signed long | 4 |\n",
    "| 'L' | int | unsigned long | 4 |\n",
    "| 'q' | int | signed long long | 8 |\n",
    "| 'Q' | int | unsigned long long | 8 |\n",
    "| 'f' | float | float | 4 |\n",
    "| 'd' | float | double | 8 |\n",
    "| 'c' | character | char | 1 |\n",
    "| 'u' | Unicode character | Py_UNICODE | 2 |\n",
    "| 's' | string | char[] | 1 |\n",
    "| 'p' | pointer | void * | 4/8 |\n",
    "\n"
   ]
  }
 ],
 "metadata": {
  "kernelspec": {
   "display_name": "Python 3",
   "language": "python",
   "name": "python3"
  },
  "language_info": {
   "codemirror_mode": {
    "name": "ipython",
    "version": 3
   },
   "file_extension": ".py",
   "mimetype": "text/x-python",
   "name": "python",
   "nbconvert_exporter": "python",
   "pygments_lexer": "ipython3",
   "version": "3.11.1"
  },
  "orig_nbformat": 4,
  "vscode": {
   "interpreter": {
    "hash": "6129d117509418a05d0676e08790583f493dc20582e5b5500f27636a9be81986"
   }
  }
 },
 "nbformat": 4,
 "nbformat_minor": 2
}
