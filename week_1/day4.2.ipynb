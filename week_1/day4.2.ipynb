{
 "cells": [
  {
   "attachments": {},
   "cell_type": "markdown",
   "metadata": {},
   "source": [
    "#Numpy"
   ]
  },
  {
   "attachments": {},
   "cell_type": "markdown",
   "metadata": {},
   "source": [
    "single dimentional array [1,2,3,4]\n",
    "multiple dimentional array(2d, 3d)\n",
    "2d=matrix \n",
    "2 3 4\n",
    "4 5 6\n",
    "6 7 0\n",
    "doesnot support thats why we need numpy package"
   ]
  },
  {
   "cell_type": "code",
   "execution_count": 9,
   "metadata": {},
   "outputs": [
    {
     "name": "stdout",
     "output_type": "stream",
     "text": [
      "[1 2 3]\n"
     ]
    }
   ],
   "source": [
    "#single D array\n",
    "from numpy import *\n",
    "\n",
    "x=array([1,2,3]) # want to specify int then x=array([1,2,3], int)\n",
    "print(x)"
   ]
  },
  {
   "cell_type": "code",
   "execution_count": 10,
   "metadata": {},
   "outputs": [
    {
     "name": "stdout",
     "output_type": "stream",
     "text": [
      "[4 6 8]\n"
     ]
    }
   ],
   "source": [
    "#array broadcasting\n",
    "from numpy import *\n",
    "\n",
    "x=array([1,2,3])\n",
    "y=array([3,4,5])\n",
    "z=x+y     #adding two array\n",
    "print(z)"
   ]
  },
  {
   "cell_type": "code",
   "execution_count": 11,
   "metadata": {},
   "outputs": [
    {
     "name": "stdout",
     "output_type": "stream",
     "text": [
      "[1 2 3 4 5 6 7 8]\n"
     ]
    }
   ],
   "source": [
    "#flatten()\n",
    "from numpy import *\n",
    "\n",
    "x=array([\n",
    "    \n",
    "        [1,2,3,4],\n",
    "        [5,6,7,8]\n",
    "        \n",
    "        ]) \n",
    "y=x.flatten()   #flattern combines array in single d form\n",
    "print(y)"
   ]
  },
  {
   "cell_type": "code",
   "execution_count": 12,
   "metadata": {},
   "outputs": [
    {
     "name": "stdout",
     "output_type": "stream",
     "text": [
      "[[1 2 3 4]\n",
      " [5 6 7 8]]\n"
     ]
    }
   ],
   "source": [
    "#reshape(rows, column)\n",
    "from numpy import *\n",
    "\n",
    "x=array([\n",
    "    \n",
    "        [1,2,3,4],\n",
    "        [5,6,7,8]\n",
    "        \n",
    "        ]) \n",
    "z=x.reshape(2,4) #gives the shape of 4 column, 2 rows matrix(1D to 2D)\n",
    "print(z)"
   ]
  },
  {
   "cell_type": "code",
   "execution_count": 13,
   "metadata": {},
   "outputs": [
    {
     "name": "stdout",
     "output_type": "stream",
     "text": [
      "[[1 2 3 4]\n",
      " [5 6 7 8]]\n"
     ]
    }
   ],
   "source": [
    "#matrix\n",
    "from numpy import *\n",
    "\n",
    "x=array([\n",
    "    \n",
    "        [1,2,3,4],\n",
    "        [5,6,7,8]\n",
    "        \n",
    "        ]) \n",
    "m=matrix(x)   #matrix: 2d array into matrix,\n",
    "print(m)"
   ]
  },
  {
   "cell_type": "code",
   "execution_count": 14,
   "metadata": {},
   "outputs": [
    {
     "name": "stdout",
     "output_type": "stream",
     "text": [
      "[[1 2 3 4]\n",
      " [5 6 7 8]\n",
      " [2 3 4 0]]\n"
     ]
    }
   ],
   "source": [
    "#matrix('rows: rows')\n",
    "from numpy import *\n",
    "\n",
    "n=matrix( ' 1 2 3 4 ; 5 6 7 8 ; 2 3 4 0' )\n",
    "print(n)     #give the output of 3x4 matrix directly, without writing array"
   ]
  },
  {
   "cell_type": "code",
   "execution_count": 15,
   "metadata": {},
   "outputs": [
    {
     "name": "stdout",
     "output_type": "stream",
     "text": [
      "[[ 1  2  3  4]\n",
      " [ 5  6  7  8]\n",
      " [ 2 13  4  0]]\n",
      "Min value: 0\n",
      "Max value: 13\n"
     ]
    }
   ],
   "source": [
    "#min, max\n",
    "from numpy import *\n",
    "\n",
    "n=matrix( ' 1 2 3 4 ; 5 6 7 8 ; 2 13 4 0' )\n",
    "\n",
    "print(n)\n",
    "print(f'Min value: {n.min()}')\n",
    "print(f'Max value: {n.max()}') "
   ]
  },
  {
   "cell_type": "code",
   "execution_count": 16,
   "metadata": {},
   "outputs": [
    {
     "name": "stdout",
     "output_type": "stream",
     "text": [
      "[[2 2 3]\n",
      " [3 5 5]\n",
      " [6 7 9]]\n",
      "\n",
      " [[1 2 3]\n",
      " [3 4 5]\n",
      " [6 7 8]]\n"
     ]
    }
   ],
   "source": [
    "from numpy import *\n",
    "\n",
    "m1=matrix('1 2 3 ; 3 4 5 ; 6 7 8 ')\n",
    "m2=matrix('1 0 0 ; 0 1 0 ; 0 0 1 ')\n",
    "\n",
    "m=m1+m2      #addition\n",
    "print(m)\n",
    "\n",
    "m3=m1*m2     #multiplication\n",
    "print('\\n',m3)"
   ]
  },
  {
   "attachments": {},
   "cell_type": "markdown",
   "metadata": {},
   "source": [
    "commonly used functions in NumPy for creating arrays:\n",
    "array(), linspace(), logspace(), arange(), zeros(), ones() "
   ]
  },
  {
   "cell_type": "code",
   "execution_count": 17,
   "metadata": {},
   "outputs": [
    {
     "name": "stdout",
     "output_type": "stream",
     "text": [
      "[2 3 4 5 9]\n"
     ]
    }
   ],
   "source": [
    "#array\n",
    "from numpy import *\n",
    "x=array([2,3,4,5,9])\n",
    "\n",
    "print(x)"
   ]
  },
  {
   "cell_type": "code",
   "execution_count": 18,
   "metadata": {},
   "outputs": [
    {
     "name": "stdout",
     "output_type": "stream",
     "text": [
      "[ 0.  3.  6.  9. 12.]\n"
     ]
    }
   ],
   "source": [
    "from numpy import *\n",
    "\n",
    "x=linspace(0,12,5) # three argument:start point,end point,number of points in the array, divides number(0 to 12) equally by 5, 5 is the length of array\n",
    "print(x)"
   ]
  },
  {
   "cell_type": "code",
   "execution_count": 19,
   "metadata": {},
   "outputs": [
    {
     "name": "stdout",
     "output_type": "stream",
     "text": [
      "[1.e+000 1.e+050 1.e+100 1.e+150 1.e+200]\n"
     ]
    }
   ],
   "source": [
    "#logspace()\n",
    "from numpy import *\n",
    "\n",
    "x=logspace(0,200,5)  # creates an array with five logarithmically spaced points between 0 and 200\n",
    "print(x)"
   ]
  },
  {
   "cell_type": "code",
   "execution_count": 20,
   "metadata": {},
   "outputs": [
    {
     "name": "stdout",
     "output_type": "stream",
     "text": [
      "[ 0  2  4  6  8 10 12 14 16 18]\n"
     ]
    }
   ],
   "source": [
    "#arange()\n",
    "from numpy import *\n",
    "\n",
    "x=arange(0,20,2)     # this creates array, where 2 is the equally spaced values within a given interval(0,20)\n",
    "print(x)"
   ]
  },
  {
   "cell_type": "code",
   "execution_count": 21,
   "metadata": {},
   "outputs": [
    {
     "name": "stdout",
     "output_type": "stream",
     "text": [
      "[0. 0. 0. 0. 0. 0. 0. 0. 0. 0. 0. 0. 0. 0. 0. 0. 0. 0. 0. 0.]\n"
     ]
    }
   ],
   "source": [
    "#print 0 as the output zeros()\n",
    "from numpy import *\n",
    "\n",
    "x=zeros(20)  \n",
    "print(x)"
   ]
  },
  {
   "cell_type": "code",
   "execution_count": 22,
   "metadata": {},
   "outputs": [
    {
     "name": "stdout",
     "output_type": "stream",
     "text": [
      "[1. 1. 1. 1. 1. 1. 1. 1. 1. 1. 1. 1. 1. 1. 1. 1. 1. 1. 1. 1.]\n"
     ]
    }
   ],
   "source": [
    "#print 1 as the output ones()\n",
    "from numpy import *\n",
    "\n",
    "x=ones(20)  \n",
    "print(x)"
   ]
  }
 ],
 "metadata": {
  "kernelspec": {
   "display_name": "Python 3",
   "language": "python",
   "name": "python3"
  },
  "language_info": {
   "codemirror_mode": {
    "name": "ipython",
    "version": 3
   },
   "file_extension": ".py",
   "mimetype": "text/x-python",
   "name": "python",
   "nbconvert_exporter": "python",
   "pygments_lexer": "ipython3",
   "version": "3.11.1"
  },
  "orig_nbformat": 4,
  "vscode": {
   "interpreter": {
    "hash": "6129d117509418a05d0676e08790583f493dc20582e5b5500f27636a9be81986"
   }
  }
 },
 "nbformat": 4,
 "nbformat_minor": 2
}
