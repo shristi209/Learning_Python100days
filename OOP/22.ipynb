{
 "cells": [
  {
   "cell_type": "markdown",
   "metadata": {},
   "source": [
    "# Object Orineted Programming "
   ]
  },
  {
   "cell_type": "markdown",
   "metadata": {},
   "source": [
    "**Lets first understand with why OOP when we already have Procedural programming**\n",
    "*   OOP Provides main 4 features: Abstraction, Inheritance, Encapsulation, Polymorphism. It enables data hiding, methods overloading, & inheritance. We'll discuss about each later on.\n",
    "*   OOP gives the control on visibility: Public, Private & Protected Scope.\n",
    "*   Creating classes and object in one file and can be reuse in other file.\n",
    "*   It also support working by many user in one file."
   ]
  },
  {
   "cell_type": "markdown",
   "metadata": {},
   "source": [
    "**Class & Object**"
   ]
  },
  {
   "cell_type": "code",
   "execution_count": 17,
   "metadata": {},
   "outputs": [
    {
     "data": {
      "text/plain": [
       "5"
      ]
     },
     "execution_count": 17,
     "metadata": {},
     "output_type": "execute_result"
    }
   ],
   "source": [
    "#creating class in python\n",
    "class student:\n",
    "    x=5\n",
    "myobj=student() #creating object\n",
    "myobj.x"
   ]
  },
  {
   "cell_type": "markdown",
   "metadata": {},
   "source": [
    "**Methods & Attributes**"
   ]
  },
  {
   "cell_type": "markdown",
   "metadata": {},
   "source": [
    "Below we have studentmarks as method and inside then phy chem are the attributes.\n",
    "Method is the function inside the class and attribute is just like the variable inside class"
   ]
  },
  {
   "cell_type": "code",
   "execution_count": 18,
   "metadata": {},
   "outputs": [
    {
     "name": "stdout",
     "output_type": "stream",
     "text": [
      "Your total marks is 178 out of 200\n"
     ]
    }
   ],
   "source": [
    "class student:\n",
    "    #must define function by def keyword\n",
    "    name=\"Hari\"                  # here name is the attribute of the class student\n",
    "    def studentmarks(phy, chem): #method declaration with arguments\n",
    "        float(phy)\n",
    "        float(chem)              \n",
    "        total_marks=phy+chem  \n",
    "        print(\"Your total marks is\", total_marks, \"out of 200\")\n",
    "        \n",
    "myobj=student\n",
    "myobj.studentmarks(88, 90)"
   ]
  },
  {
   "cell_type": "markdown",
   "metadata": {},
   "source": [
    "**__ __init__ __ Method**"
   ]
  },
  {
   "cell_type": "markdown",
   "metadata": {},
   "source": [
    "This is the special method used in python. Its a contructor, is atomatically called, when the object is created. It takes first argument as *self*. It is used for the declaration of the attribute for the object inside init method."
   ]
  },
  {
   "cell_type": "code",
   "execution_count": 19,
   "metadata": {},
   "outputs": [
    {
     "name": "stdout",
     "output_type": "stream",
     "text": [
      "The details of student is Name: Sumita , Roll No 22 , Percentage 45\n"
     ]
    }
   ],
   "source": [
    "class student:\n",
    "    def __init__(self, name, rollno, percentage): #init method with passing argument.\n",
    "        self.name=name\n",
    "        self.rollno=rollno\n",
    "        self.percentage=percentage\n",
    "    \n",
    "    def student_info(self):                      #another method to print student information\n",
    "        print(\"The details of student is Name:\", self.name,\", Roll No\", self.rollno,\", Percentage\", self.percentage)\n",
    "        \n",
    "myobj = student(\"Sumita\", 22,  45)\n",
    "myobj.student_info()"
   ]
  }
 ],
 "metadata": {
  "kernelspec": {
   "display_name": "Python 3",
   "language": "python",
   "name": "python3"
  },
  "language_info": {
   "codemirror_mode": {
    "name": "ipython",
    "version": 3
   },
   "file_extension": ".py",
   "mimetype": "text/x-python",
   "name": "python",
   "nbconvert_exporter": "python",
   "pygments_lexer": "ipython3",
   "version": "3.11.3"
  }
 },
 "nbformat": 4,
 "nbformat_minor": 2
}
